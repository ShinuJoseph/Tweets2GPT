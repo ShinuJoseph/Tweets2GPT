{
 "cells": [
  {
   "cell_type": "code",
   "execution_count": 69,
   "metadata": {},
   "outputs": [
    {
     "data": {
      "text/plain": [
       "\"\\nLet's assume that we are already connected to twitter API and have pulled the tweets we want to analyze.\\n\""
      ]
     },
     "execution_count": 69,
     "metadata": {},
     "output_type": "execute_result"
    }
   ],
   "source": [
    "'''\n",
    "Let's assume that we are already connected to twitter API and have pulled the tweets we want to analyze.\n",
    "'''"
   ]
  },
  {
   "cell_type": "code",
   "execution_count": 70,
   "metadata": {},
   "outputs": [],
   "source": [
    "# Importing the libraries\n",
    "\n",
    "import pandas as pd\n",
    "import tweetnlp"
   ]
  },
  {
   "cell_type": "code",
   "execution_count": 71,
   "metadata": {},
   "outputs": [
    {
     "data": {
      "text/html": [
       "<div>\n",
       "<style scoped>\n",
       "    .dataframe tbody tr th:only-of-type {\n",
       "        vertical-align: middle;\n",
       "    }\n",
       "\n",
       "    .dataframe tbody tr th {\n",
       "        vertical-align: top;\n",
       "    }\n",
       "\n",
       "    .dataframe thead th {\n",
       "        text-align: right;\n",
       "    }\n",
       "</style>\n",
       "<table border=\"1\" class=\"dataframe\">\n",
       "  <thead>\n",
       "    <tr style=\"text-align: right;\">\n",
       "      <th></th>\n",
       "      <th>text</th>\n",
       "      <th>pattern</th>\n",
       "      <th>sentiment_original</th>\n",
       "      <th>topic_original</th>\n",
       "    </tr>\n",
       "  </thead>\n",
       "  <tbody>\n",
       "    <tr>\n",
       "      <th>0</th>\n",
       "      <td>@TLRailUK why don't the doors open at every st...</td>\n",
       "      <td>500</td>\n",
       "      <td>neutral</td>\n",
       "      <td>covid</td>\n",
       "    </tr>\n",
       "    <tr>\n",
       "      <th>1</th>\n",
       "      <td>@TLRailUK When on phone to @LNER they said as ...</td>\n",
       "      <td>401</td>\n",
       "      <td>negative</td>\n",
       "      <td>delays</td>\n",
       "    </tr>\n",
       "    <tr>\n",
       "      <th>2</th>\n",
       "      <td>@LiveCommute @bus131 @tlupdates @TLRailUK @bri...</td>\n",
       "      <td>500</td>\n",
       "      <td>negative</td>\n",
       "      <td>train_general</td>\n",
       "    </tr>\n",
       "  </tbody>\n",
       "</table>\n",
       "</div>"
      ],
      "text/plain": [
       "                                                text pattern  \\\n",
       "0  @TLRailUK why don't the doors open at every st...     500   \n",
       "1  @TLRailUK When on phone to @LNER they said as ...     401   \n",
       "2  @LiveCommute @bus131 @tlupdates @TLRailUK @bri...     500   \n",
       "\n",
       "  sentiment_original topic_original  \n",
       "0            neutral          covid  \n",
       "1           negative         delays  \n",
       "2           negative  train_general  "
      ]
     },
     "execution_count": 71,
     "metadata": {},
     "output_type": "execute_result"
    }
   ],
   "source": [
    "# load the dataset\n",
    "\n",
    "tweets = pd.read_csv('..\\..\\Data\\Processed\\Sprint4 - sample_tweets_with_sentiment - Erjon.csv', dtype='str')\n",
    "tweets.head(3)\n"
   ]
  },
  {
   "cell_type": "code",
   "execution_count": 72,
   "metadata": {},
   "outputs": [
    {
     "name": "stderr",
     "output_type": "stream",
     "text": [
      "Some weights of the model checkpoint at cardiffnlp/twitter-roberta-base-sentiment-latest were not used when initializing RobertaForSequenceClassification: ['roberta.pooler.dense.weight', 'roberta.pooler.dense.bias']\n",
      "- This IS expected if you are initializing RobertaForSequenceClassification from the checkpoint of a model trained on another task or with another architecture (e.g. initializing a BertForSequenceClassification model from a BertForPreTraining model).\n",
      "- This IS NOT expected if you are initializing RobertaForSequenceClassification from the checkpoint of a model that you expect to be exactly identical (initializing a BertForSequenceClassification model from a BertForSequenceClassification model).\n"
     ]
    }
   ],
   "source": [
    "model = tweetnlp.load_model('sentiment')"
   ]
  },
  {
   "cell_type": "code",
   "execution_count": 73,
   "metadata": {},
   "outputs": [],
   "source": [
    "tweets['sentiment_from_model'] = tweets['text'].apply(lambda x: model.predict(x)['label'])"
   ]
  },
  {
   "cell_type": "code",
   "execution_count": 74,
   "metadata": {},
   "outputs": [
    {
     "data": {
      "text/html": [
       "<div>\n",
       "<style scoped>\n",
       "    .dataframe tbody tr th:only-of-type {\n",
       "        vertical-align: middle;\n",
       "    }\n",
       "\n",
       "    .dataframe tbody tr th {\n",
       "        vertical-align: top;\n",
       "    }\n",
       "\n",
       "    .dataframe thead th {\n",
       "        text-align: right;\n",
       "    }\n",
       "</style>\n",
       "<table border=\"1\" class=\"dataframe\">\n",
       "  <thead>\n",
       "    <tr style=\"text-align: right;\">\n",
       "      <th></th>\n",
       "      <th>text</th>\n",
       "      <th>pattern</th>\n",
       "      <th>sentiment_original</th>\n",
       "      <th>topic_original</th>\n",
       "      <th>sentiment_from_model</th>\n",
       "    </tr>\n",
       "  </thead>\n",
       "  <tbody>\n",
       "    <tr>\n",
       "      <th>0</th>\n",
       "      <td>@TLRailUK why don't the doors open at every st...</td>\n",
       "      <td>500</td>\n",
       "      <td>neutral</td>\n",
       "      <td>covid</td>\n",
       "      <td>neutral</td>\n",
       "    </tr>\n",
       "    <tr>\n",
       "      <th>1</th>\n",
       "      <td>@TLRailUK When on phone to @LNER they said as ...</td>\n",
       "      <td>401</td>\n",
       "      <td>negative</td>\n",
       "      <td>delays</td>\n",
       "      <td>negative</td>\n",
       "    </tr>\n",
       "    <tr>\n",
       "      <th>2</th>\n",
       "      <td>@LiveCommute @bus131 @tlupdates @TLRailUK @bri...</td>\n",
       "      <td>500</td>\n",
       "      <td>negative</td>\n",
       "      <td>train_general</td>\n",
       "      <td>negative</td>\n",
       "    </tr>\n",
       "  </tbody>\n",
       "</table>\n",
       "</div>"
      ],
      "text/plain": [
       "                                                text pattern  \\\n",
       "0  @TLRailUK why don't the doors open at every st...     500   \n",
       "1  @TLRailUK When on phone to @LNER they said as ...     401   \n",
       "2  @LiveCommute @bus131 @tlupdates @TLRailUK @bri...     500   \n",
       "\n",
       "  sentiment_original topic_original sentiment_from_model  \n",
       "0            neutral          covid              neutral  \n",
       "1           negative         delays             negative  \n",
       "2           negative  train_general             negative  "
      ]
     },
     "execution_count": 74,
     "metadata": {},
     "output_type": "execute_result"
    }
   ],
   "source": [
    "tweets.head(3)"
   ]
  },
  {
   "cell_type": "code",
   "execution_count": 75,
   "metadata": {},
   "outputs": [
    {
     "data": {
      "text/plain": [
       "comparison\n",
       "True     67\n",
       "False    34\n",
       "Name: count, dtype: int64"
      ]
     },
     "execution_count": 75,
     "metadata": {},
     "output_type": "execute_result"
    }
   ],
   "source": [
    "# compare sentiment_original with sentiment_from_model\n",
    "\n",
    "tweets['comparison'] = tweets['sentiment_original']==tweets['sentiment_from_model']\n",
    "tweets['comparison'].value_counts()"
   ]
  },
  {
   "cell_type": "code",
   "execution_count": 86,
   "metadata": {},
   "outputs": [
    {
     "data": {
      "text/plain": [
       "pattern\n",
       "230    9\n",
       "140    5\n",
       "050    5\n",
       "500    3\n",
       "311    3\n",
       "041    3\n",
       "221    3\n",
       "401    2\n",
       "302    1\n",
       "320    1\n",
       "023    1\n",
       "Name: count, dtype: int64"
      ]
     },
     "execution_count": 86,
     "metadata": {},
     "output_type": "execute_result"
    }
   ],
   "source": [
    "tweets[tweets['sentiment_from_model']=='neutral']['pattern'].value_counts()"
   ]
  },
  {
   "cell_type": "code",
   "execution_count": 87,
   "metadata": {},
   "outputs": [
    {
     "data": {
      "text/plain": [
       "pattern\n",
       "230    11\n",
       "140     5\n",
       "050     4\n",
       "500     3\n",
       "221     3\n",
       "311     2\n",
       "041     2\n",
       "410     2\n",
       "302     1\n",
       "113     1\n",
       "320     1\n",
       "Name: count, dtype: int64"
      ]
     },
     "execution_count": 87,
     "metadata": {},
     "output_type": "execute_result"
    }
   ],
   "source": [
    "tweets[tweets['sentiment_original']=='neutral']['pattern'].value_counts()"
   ]
  }
 ],
 "metadata": {
  "kernelspec": {
   "display_name": "venv",
   "language": "python",
   "name": "python3"
  },
  "language_info": {
   "codemirror_mode": {
    "name": "ipython",
    "version": 3
   },
   "file_extension": ".py",
   "mimetype": "text/x-python",
   "name": "python",
   "nbconvert_exporter": "python",
   "pygments_lexer": "ipython3",
   "version": "3.9.7"
  }
 },
 "nbformat": 4,
 "nbformat_minor": 2
}

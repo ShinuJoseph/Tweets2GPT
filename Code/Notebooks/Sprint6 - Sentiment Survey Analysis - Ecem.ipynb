{
 "cells": [
  {
   "cell_type": "code",
   "execution_count": 38,
   "metadata": {},
   "outputs": [],
   "source": [
    "# import libraries\n",
    "import pandas as pd\n",
    "import numpy as np\n",
    "import matplotlib.pyplot as plt\n",
    "import tweepy\n",
    "import json\n",
    "import tweetnlp\n",
    "import openai"
   ]
  },
  {
   "cell_type": "code",
   "execution_count": 39,
   "metadata": {},
   "outputs": [],
   "source": [
    "all_tweets = pd.read_csv(\"../../Data/Processed/Sprint6 - sample_tweets_survey_answers - Ecem.csv\")"
   ]
  },
  {
   "cell_type": "code",
   "execution_count": 40,
   "metadata": {},
   "outputs": [
    {
     "data": {
      "text/html": [
       "<div>\n",
       "<style scoped>\n",
       "    .dataframe tbody tr th:only-of-type {\n",
       "        vertical-align: middle;\n",
       "    }\n",
       "\n",
       "    .dataframe tbody tr th {\n",
       "        vertical-align: top;\n",
       "    }\n",
       "\n",
       "    .dataframe thead th {\n",
       "        text-align: right;\n",
       "    }\n",
       "</style>\n",
       "<table border=\"1\" class=\"dataframe\">\n",
       "  <thead>\n",
       "    <tr style=\"text-align: right;\">\n",
       "      <th></th>\n",
       "      <th>text</th>\n",
       "      <th>Complaint number</th>\n",
       "      <th>non complaint number</th>\n",
       "      <th>uncertain number</th>\n",
       "      <th>Cem</th>\n",
       "      <th>ecem</th>\n",
       "      <th>Shinu J</th>\n",
       "      <th>Akshay</th>\n",
       "      <th>Erjon</th>\n",
       "      <th>pattern</th>\n",
       "    </tr>\n",
       "  </thead>\n",
       "  <tbody>\n",
       "    <tr>\n",
       "      <th>0</th>\n",
       "      <td>@TLRailUK why don't the doors open at every st...</td>\n",
       "      <td>5</td>\n",
       "      <td>0</td>\n",
       "      <td>0</td>\n",
       "      <td>Doors</td>\n",
       "      <td>Doors</td>\n",
       "      <td>Doors</td>\n",
       "      <td>Door</td>\n",
       "      <td>doors</td>\n",
       "      <td>500</td>\n",
       "    </tr>\n",
       "    <tr>\n",
       "      <th>1</th>\n",
       "      <td>@TLRailUK When on phone to @LNER they said as ...</td>\n",
       "      <td>5</td>\n",
       "      <td>0</td>\n",
       "      <td>0</td>\n",
       "      <td>Delays</td>\n",
       "      <td>Delay</td>\n",
       "      <td>Delay</td>\n",
       "      <td>Delay</td>\n",
       "      <td>cancellations</td>\n",
       "      <td>500</td>\n",
       "    </tr>\n",
       "    <tr>\n",
       "      <th>2</th>\n",
       "      <td>@LiveCommute @bus131 @tlupdates @TLRailUK @bri...</td>\n",
       "      <td>5</td>\n",
       "      <td>0</td>\n",
       "      <td>0</td>\n",
       "      <td>Train General</td>\n",
       "      <td>Service</td>\n",
       "      <td>Absence of amenities</td>\n",
       "      <td>Customer experience</td>\n",
       "      <td>Experience</td>\n",
       "      <td>500</td>\n",
       "    </tr>\n",
       "  </tbody>\n",
       "</table>\n",
       "</div>"
      ],
      "text/plain": [
       "                                                text  Complaint number  \\\n",
       "0  @TLRailUK why don't the doors open at every st...                 5   \n",
       "1  @TLRailUK When on phone to @LNER they said as ...                 5   \n",
       "2  @LiveCommute @bus131 @tlupdates @TLRailUK @bri...                 5   \n",
       "\n",
       "   non complaint number  uncertain number            Cem     ecem  \\\n",
       "0                     0                 0          Doors    Doors   \n",
       "1                     0                 0         Delays    Delay   \n",
       "2                     0                 0  Train General  Service   \n",
       "\n",
       "                Shinu J                Akshay          Erjon pattern  \n",
       "0                 Doors                  Door          doors     500  \n",
       "1                 Delay                 Delay  cancellations     500  \n",
       "2  Absence of amenities  Customer experience      Experience     500  "
      ]
     },
     "execution_count": 40,
     "metadata": {},
     "output_type": "execute_result"
    }
   ],
   "source": [
    "# Creating a new DataFrame with the required columns\n",
    "new_columns = [\"text\", \"Complaint number\", \"non complaint number\", \n",
    "               \"uncertain number\", \"Cem\", \"ecem\", \"Shinu J\", \n",
    "               \"Akshay\", \"Erjon\"]\n",
    "survey_edited = pd.DataFrame(columns=new_columns)\n",
    "\n",
    "# Populate the \"text\" column with the column names of the complaint statements\n",
    "text_columns = all_tweets.columns[2::2]  # Selecting every odd-numbered column starting from the 3rd\n",
    "survey_edited[\"text\"] = text_columns\n",
    "\n",
    "# Count the number of complaints, non-complaints, and uncertain entries for each text\n",
    "complaint_counts = []\n",
    "non_complaint_counts = []\n",
    "uncertain_counts = []\n",
    "topics = {name: [] for name in new_columns[4:]}\n",
    "\n",
    "for text_col in text_columns:\n",
    "    # Count the occurrences of each type in the corresponding column\n",
    "    complaint_counts.append((all_tweets[text_col] == \"Complaint\").sum())\n",
    "    non_complaint_counts.append((all_tweets[text_col] == \"Non-Complaint\").sum())\n",
    "    uncertain_counts.append((all_tweets[text_col] == \"Uncertain\").sum())\n",
    "\n",
    "# Iterate over each text column\n",
    "for text_col in text_columns:\n",
    "    topic_col = all_tweets.columns[all_tweets.columns.get_loc(text_col) + 1]  # The next column contains the topics\n",
    "    \n",
    "    # Reset current_topics for each text column\n",
    "    current_topics = {reviewer: None for reviewer in topics}\n",
    "    \n",
    "    # Iterate over each row in the DataFrame\n",
    "    for _, row in all_tweets.iterrows():\n",
    "        reviewer_name = row['What is your name?'].strip().lower()\n",
    "        for reviewer in topics:\n",
    "            # Check if the lowercase stripped name matches any reviewer\n",
    "            if reviewer.lower() == reviewer_name:\n",
    "                current_topics[reviewer] = row[topic_col]\n",
    "                break\n",
    "\n",
    "    # Append the topic for each reviewer\n",
    "    for reviewer in topics:\n",
    "        topics[reviewer].append(current_topics[reviewer])\n",
    "\n",
    "# Now, add the topics to the new DataFrame\n",
    "for reviewer, topic_list in topics.items():\n",
    "    survey_edited[reviewer] = topic_list\n",
    "\n",
    "# Add counts to the new DataFrame\n",
    "survey_edited[\"Complaint number\"] = complaint_counts\n",
    "survey_edited[\"non complaint number\"] = non_complaint_counts\n",
    "survey_edited[\"uncertain number\"] = uncertain_counts\n",
    "\n",
    "# add the pattern column showing complaint number + non complaint number + uncertain number\n",
    "\n",
    "survey_edited['pattern'] = survey_edited['Complaint number'].astype(str) + survey_edited['non complaint number'].astype(str) + survey_edited['uncertain number'].astype(str)\n",
    "survey_edited['pattern'].value_counts()\n",
    "survey_edited.head(3)"
   ]
  },
  {
   "cell_type": "code",
   "execution_count": 41,
   "metadata": {},
   "outputs": [
    {
     "data": {
      "text/plain": [
       "500    51\n",
       "050    29\n",
       "410    12\n",
       "140     9\n",
       "Name: pattern, dtype: int64"
      ]
     },
     "execution_count": 41,
     "metadata": {},
     "output_type": "execute_result"
    }
   ],
   "source": [
    "#Write patterncolumn's values to a list\n",
    "survey_edited['pattern'].value_counts()"
   ]
  },
  {
   "cell_type": "code",
   "execution_count": 42,
   "metadata": {},
   "outputs": [
    {
     "data": {
      "text/plain": [
       "True     63\n",
       "False    38\n",
       "Name: Survey_Results, dtype: int64"
      ]
     },
     "execution_count": 42,
     "metadata": {},
     "output_type": "execute_result"
    }
   ],
   "source": [
    "#Create a new column with the name of Survey_Results and write True if the pattern is 500, 410 or 401\n",
    "survey_edited['Survey_Results'] = np.where(survey_edited['pattern'].isin(['500','410','401']), True, False)\n",
    "survey_edited['Survey_Results'].value_counts()"
   ]
  },
  {
   "cell_type": "code",
   "execution_count": 43,
   "metadata": {},
   "outputs": [
    {
     "name": "stdout",
     "output_type": "stream",
     "text": [
      "The number of tweets in which we all agree is a complaint:  51\n",
      "The number of tweets in which we all agree is not a complaint:  29\n",
      "The number of tweets in which its 4 votes for a complaint:  12\n",
      "The number of tweets in which its 4 votes for a non complaint:  9\n",
      "The number of tweets where there is no agreement:  0\n"
     ]
    }
   ],
   "source": [
    "# Print the pattern distribution\n",
    "print('The number of tweets in which we all agree is a complaint: ', len(survey_edited[survey_edited['pattern'].str.contains('500')]))\n",
    "print('The number of tweets in which we all agree is not a complaint: ', len(survey_edited[survey_edited['pattern'].str.contains('050')]))\n",
    "print('The number of tweets in which its 4 votes for a complaint: ', len(survey_edited[survey_edited['pattern'].str.contains('410|401')]))\n",
    "print('The number of tweets in which its 4 votes for a non complaint: ', len(survey_edited[survey_edited['pattern'].str.contains('140|041')]))\n",
    "print('The number of tweets where there is no agreement: ', len(survey_edited[survey_edited['pattern'].str.contains('3|2')]))"
   ]
  },
  {
   "cell_type": "code",
   "execution_count": 33,
   "metadata": {},
   "outputs": [
    {
     "data": {
      "text/html": [
       "<div>\n",
       "<style scoped>\n",
       "    .dataframe tbody tr th:only-of-type {\n",
       "        vertical-align: middle;\n",
       "    }\n",
       "\n",
       "    .dataframe tbody tr th {\n",
       "        vertical-align: top;\n",
       "    }\n",
       "\n",
       "    .dataframe thead th {\n",
       "        text-align: right;\n",
       "    }\n",
       "</style>\n",
       "<table border=\"1\" class=\"dataframe\">\n",
       "  <thead>\n",
       "    <tr style=\"text-align: right;\">\n",
       "      <th></th>\n",
       "      <th>text</th>\n",
       "      <th>Complaint number</th>\n",
       "      <th>non complaint number</th>\n",
       "      <th>uncertain number</th>\n",
       "      <th>Cem</th>\n",
       "      <th>ecem</th>\n",
       "      <th>Shinu J</th>\n",
       "      <th>Akshay</th>\n",
       "      <th>Erjon</th>\n",
       "      <th>pattern</th>\n",
       "      <th>Survey_Results</th>\n",
       "    </tr>\n",
       "  </thead>\n",
       "  <tbody>\n",
       "    <tr>\n",
       "      <th>0</th>\n",
       "      <td>@TLRailUK why don't the doors open at every st...</td>\n",
       "      <td>5</td>\n",
       "      <td>0</td>\n",
       "      <td>0</td>\n",
       "      <td>Doors</td>\n",
       "      <td>Doors</td>\n",
       "      <td>Doors</td>\n",
       "      <td>Door</td>\n",
       "      <td>doors</td>\n",
       "      <td>500</td>\n",
       "      <td>True</td>\n",
       "    </tr>\n",
       "  </tbody>\n",
       "</table>\n",
       "</div>"
      ],
      "text/plain": [
       "                                                text  Complaint number  \\\n",
       "0  @TLRailUK why don't the doors open at every st...                 5   \n",
       "\n",
       "   non complaint number  uncertain number    Cem   ecem Shinu J Akshay  Erjon  \\\n",
       "0                     0                 0  Doors  Doors   Doors   Door  doors   \n",
       "\n",
       "  pattern  Survey_Results  \n",
       "0     500            True  "
      ]
     },
     "execution_count": 33,
     "metadata": {},
     "output_type": "execute_result"
    }
   ],
   "source": [
    "survey_edited.head(1)"
   ]
  },
  {
   "cell_type": "code",
   "execution_count": 46,
   "metadata": {},
   "outputs": [
    {
     "name": "stderr",
     "output_type": "stream",
     "text": [
      "Some weights of the model checkpoint at cardiffnlp/twitter-roberta-base-sentiment-latest were not used when initializing RobertaForSequenceClassification: ['roberta.pooler.dense.bias', 'roberta.pooler.dense.weight']\n",
      "- This IS expected if you are initializing RobertaForSequenceClassification from the checkpoint of a model trained on another task or with another architecture (e.g. initializing a BertForSequenceClassification model from a BertForPreTraining model).\n",
      "- This IS NOT expected if you are initializing RobertaForSequenceClassification from the checkpoint of a model that you expect to be exactly identical (initializing a BertForSequenceClassification model from a BertForSequenceClassification model).\n"
     ]
    }
   ],
   "source": [
    "import tweetnlp\n",
    "\n",
    "# Check for sentiment in the all_tweets_edited dataset using the tweetnlp library and save the results in a new column called sentiment\n",
    "model = tweetnlp.load_model('sentiment')\n",
    "\n",
    "# Create a new dataframe called transformed_tweets_sentiment as a copy of all_tweets_edited\n",
    "transformed_tweets_sentiment = survey_edited.copy()\n",
    "\n",
    "# Create a new column called 'sentiment' based on the sentiment prediction for each tweet\n",
    "transformed_tweets_sentiment['sentiment'] = transformed_tweets_sentiment['text'].apply(lambda x: model.predict(x)['label'])\n",
    "\n"
   ]
  },
  {
   "cell_type": "code",
   "execution_count": 47,
   "metadata": {},
   "outputs": [
    {
     "data": {
      "text/html": [
       "<div>\n",
       "<style scoped>\n",
       "    .dataframe tbody tr th:only-of-type {\n",
       "        vertical-align: middle;\n",
       "    }\n",
       "\n",
       "    .dataframe tbody tr th {\n",
       "        vertical-align: top;\n",
       "    }\n",
       "\n",
       "    .dataframe thead th {\n",
       "        text-align: right;\n",
       "    }\n",
       "</style>\n",
       "<table border=\"1\" class=\"dataframe\">\n",
       "  <thead>\n",
       "    <tr style=\"text-align: right;\">\n",
       "      <th></th>\n",
       "      <th>text</th>\n",
       "      <th>Complaint number</th>\n",
       "      <th>non complaint number</th>\n",
       "      <th>uncertain number</th>\n",
       "      <th>Cem</th>\n",
       "      <th>ecem</th>\n",
       "      <th>Shinu J</th>\n",
       "      <th>Akshay</th>\n",
       "      <th>Erjon</th>\n",
       "      <th>pattern</th>\n",
       "      <th>Survey_Results</th>\n",
       "      <th>sentiment</th>\n",
       "    </tr>\n",
       "  </thead>\n",
       "  <tbody>\n",
       "    <tr>\n",
       "      <th>0</th>\n",
       "      <td>@TLRailUK why don't the doors open at every st...</td>\n",
       "      <td>5</td>\n",
       "      <td>0</td>\n",
       "      <td>0</td>\n",
       "      <td>Doors</td>\n",
       "      <td>Doors</td>\n",
       "      <td>Doors</td>\n",
       "      <td>Door</td>\n",
       "      <td>doors</td>\n",
       "      <td>500</td>\n",
       "      <td>True</td>\n",
       "      <td>neutral</td>\n",
       "    </tr>\n",
       "    <tr>\n",
       "      <th>1</th>\n",
       "      <td>@TLRailUK When on phone to @LNER they said as ...</td>\n",
       "      <td>5</td>\n",
       "      <td>0</td>\n",
       "      <td>0</td>\n",
       "      <td>Delays</td>\n",
       "      <td>Delay</td>\n",
       "      <td>Delay</td>\n",
       "      <td>Delay</td>\n",
       "      <td>cancellations</td>\n",
       "      <td>500</td>\n",
       "      <td>True</td>\n",
       "      <td>negative</td>\n",
       "    </tr>\n",
       "    <tr>\n",
       "      <th>2</th>\n",
       "      <td>@LiveCommute @bus131 @tlupdates @TLRailUK @bri...</td>\n",
       "      <td>5</td>\n",
       "      <td>0</td>\n",
       "      <td>0</td>\n",
       "      <td>Train General</td>\n",
       "      <td>Service</td>\n",
       "      <td>Absence of amenities</td>\n",
       "      <td>Customer experience</td>\n",
       "      <td>Experience</td>\n",
       "      <td>500</td>\n",
       "      <td>True</td>\n",
       "      <td>negative</td>\n",
       "    </tr>\n",
       "    <tr>\n",
       "      <th>3</th>\n",
       "      <td>@TLRailUK what is going on with the 17:11 from...</td>\n",
       "      <td>5</td>\n",
       "      <td>0</td>\n",
       "      <td>0</td>\n",
       "      <td>Delay</td>\n",
       "      <td>Delay</td>\n",
       "      <td>Train Delay</td>\n",
       "      <td>Delay</td>\n",
       "      <td>Communication</td>\n",
       "      <td>500</td>\n",
       "      <td>True</td>\n",
       "      <td>negative</td>\n",
       "    </tr>\n",
       "    <tr>\n",
       "      <th>4</th>\n",
       "      <td>@NetworkRailSE @SouthernRailUK #TLUpdates - Th...</td>\n",
       "      <td>1</td>\n",
       "      <td>4</td>\n",
       "      <td>0</td>\n",
       "      <td>NaN</td>\n",
       "      <td>NaN</td>\n",
       "      <td>NaN</td>\n",
       "      <td>Delay</td>\n",
       "      <td>NaN</td>\n",
       "      <td>140</td>\n",
       "      <td>False</td>\n",
       "      <td>neutral</td>\n",
       "    </tr>\n",
       "  </tbody>\n",
       "</table>\n",
       "</div>"
      ],
      "text/plain": [
       "                                                text  Complaint number  \\\n",
       "0  @TLRailUK why don't the doors open at every st...                 5   \n",
       "1  @TLRailUK When on phone to @LNER they said as ...                 5   \n",
       "2  @LiveCommute @bus131 @tlupdates @TLRailUK @bri...                 5   \n",
       "3  @TLRailUK what is going on with the 17:11 from...                 5   \n",
       "4  @NetworkRailSE @SouthernRailUK #TLUpdates - Th...                 1   \n",
       "\n",
       "   non complaint number  uncertain number            Cem     ecem  \\\n",
       "0                     0                 0          Doors    Doors   \n",
       "1                     0                 0         Delays    Delay   \n",
       "2                     0                 0  Train General  Service   \n",
       "3                     0                 0          Delay    Delay   \n",
       "4                     4                 0            NaN      NaN   \n",
       "\n",
       "                Shinu J                Akshay          Erjon pattern  \\\n",
       "0                 Doors                  Door          doors     500   \n",
       "1                 Delay                 Delay  cancellations     500   \n",
       "2  Absence of amenities  Customer experience      Experience     500   \n",
       "3           Train Delay                 Delay  Communication     500   \n",
       "4                   NaN                 Delay            NaN     140   \n",
       "\n",
       "   Survey_Results sentiment  \n",
       "0            True   neutral  \n",
       "1            True  negative  \n",
       "2            True  negative  \n",
       "3            True  negative  \n",
       "4           False   neutral  "
      ]
     },
     "execution_count": 47,
     "metadata": {},
     "output_type": "execute_result"
    }
   ],
   "source": [
    "transformed_tweets_sentiment.head(5)"
   ]
  },
  {
   "cell_type": "code",
   "execution_count": 48,
   "metadata": {},
   "outputs": [],
   "source": [
    "#Create a new column named Model_Results and write True if sentiment is negative and False if sentiment is positive or neutral\n",
    "transformed_tweets_sentiment['Model_Results'] = np.where(transformed_tweets_sentiment['sentiment'].isin(['negative']), True, False)"
   ]
  },
  {
   "cell_type": "code",
   "execution_count": 49,
   "metadata": {},
   "outputs": [
    {
     "data": {
      "text/html": [
       "<div>\n",
       "<style scoped>\n",
       "    .dataframe tbody tr th:only-of-type {\n",
       "        vertical-align: middle;\n",
       "    }\n",
       "\n",
       "    .dataframe tbody tr th {\n",
       "        vertical-align: top;\n",
       "    }\n",
       "\n",
       "    .dataframe thead th {\n",
       "        text-align: right;\n",
       "    }\n",
       "</style>\n",
       "<table border=\"1\" class=\"dataframe\">\n",
       "  <thead>\n",
       "    <tr style=\"text-align: right;\">\n",
       "      <th></th>\n",
       "      <th>text</th>\n",
       "      <th>Complaint number</th>\n",
       "      <th>non complaint number</th>\n",
       "      <th>uncertain number</th>\n",
       "      <th>Cem</th>\n",
       "      <th>ecem</th>\n",
       "      <th>Shinu J</th>\n",
       "      <th>Akshay</th>\n",
       "      <th>Erjon</th>\n",
       "      <th>pattern</th>\n",
       "      <th>Survey_Results</th>\n",
       "      <th>sentiment</th>\n",
       "      <th>Model_Results</th>\n",
       "    </tr>\n",
       "  </thead>\n",
       "  <tbody>\n",
       "    <tr>\n",
       "      <th>0</th>\n",
       "      <td>@TLRailUK why don't the doors open at every st...</td>\n",
       "      <td>5</td>\n",
       "      <td>0</td>\n",
       "      <td>0</td>\n",
       "      <td>Doors</td>\n",
       "      <td>Doors</td>\n",
       "      <td>Doors</td>\n",
       "      <td>Door</td>\n",
       "      <td>doors</td>\n",
       "      <td>500</td>\n",
       "      <td>True</td>\n",
       "      <td>neutral</td>\n",
       "      <td>False</td>\n",
       "    </tr>\n",
       "    <tr>\n",
       "      <th>1</th>\n",
       "      <td>@TLRailUK When on phone to @LNER they said as ...</td>\n",
       "      <td>5</td>\n",
       "      <td>0</td>\n",
       "      <td>0</td>\n",
       "      <td>Delays</td>\n",
       "      <td>Delay</td>\n",
       "      <td>Delay</td>\n",
       "      <td>Delay</td>\n",
       "      <td>cancellations</td>\n",
       "      <td>500</td>\n",
       "      <td>True</td>\n",
       "      <td>negative</td>\n",
       "      <td>True</td>\n",
       "    </tr>\n",
       "    <tr>\n",
       "      <th>2</th>\n",
       "      <td>@LiveCommute @bus131 @tlupdates @TLRailUK @bri...</td>\n",
       "      <td>5</td>\n",
       "      <td>0</td>\n",
       "      <td>0</td>\n",
       "      <td>Train General</td>\n",
       "      <td>Service</td>\n",
       "      <td>Absence of amenities</td>\n",
       "      <td>Customer experience</td>\n",
       "      <td>Experience</td>\n",
       "      <td>500</td>\n",
       "      <td>True</td>\n",
       "      <td>negative</td>\n",
       "      <td>True</td>\n",
       "    </tr>\n",
       "    <tr>\n",
       "      <th>3</th>\n",
       "      <td>@TLRailUK what is going on with the 17:11 from...</td>\n",
       "      <td>5</td>\n",
       "      <td>0</td>\n",
       "      <td>0</td>\n",
       "      <td>Delay</td>\n",
       "      <td>Delay</td>\n",
       "      <td>Train Delay</td>\n",
       "      <td>Delay</td>\n",
       "      <td>Communication</td>\n",
       "      <td>500</td>\n",
       "      <td>True</td>\n",
       "      <td>negative</td>\n",
       "      <td>True</td>\n",
       "    </tr>\n",
       "    <tr>\n",
       "      <th>4</th>\n",
       "      <td>@NetworkRailSE @SouthernRailUK #TLUpdates - Th...</td>\n",
       "      <td>1</td>\n",
       "      <td>4</td>\n",
       "      <td>0</td>\n",
       "      <td>NaN</td>\n",
       "      <td>NaN</td>\n",
       "      <td>NaN</td>\n",
       "      <td>Delay</td>\n",
       "      <td>NaN</td>\n",
       "      <td>140</td>\n",
       "      <td>False</td>\n",
       "      <td>neutral</td>\n",
       "      <td>False</td>\n",
       "    </tr>\n",
       "  </tbody>\n",
       "</table>\n",
       "</div>"
      ],
      "text/plain": [
       "                                                text  Complaint number  \\\n",
       "0  @TLRailUK why don't the doors open at every st...                 5   \n",
       "1  @TLRailUK When on phone to @LNER they said as ...                 5   \n",
       "2  @LiveCommute @bus131 @tlupdates @TLRailUK @bri...                 5   \n",
       "3  @TLRailUK what is going on with the 17:11 from...                 5   \n",
       "4  @NetworkRailSE @SouthernRailUK #TLUpdates - Th...                 1   \n",
       "\n",
       "   non complaint number  uncertain number            Cem     ecem  \\\n",
       "0                     0                 0          Doors    Doors   \n",
       "1                     0                 0         Delays    Delay   \n",
       "2                     0                 0  Train General  Service   \n",
       "3                     0                 0          Delay    Delay   \n",
       "4                     4                 0            NaN      NaN   \n",
       "\n",
       "                Shinu J                Akshay          Erjon pattern  \\\n",
       "0                 Doors                  Door          doors     500   \n",
       "1                 Delay                 Delay  cancellations     500   \n",
       "2  Absence of amenities  Customer experience      Experience     500   \n",
       "3           Train Delay                 Delay  Communication     500   \n",
       "4                   NaN                 Delay            NaN     140   \n",
       "\n",
       "   Survey_Results sentiment  Model_Results  \n",
       "0            True   neutral          False  \n",
       "1            True  negative           True  \n",
       "2            True  negative           True  \n",
       "3            True  negative           True  \n",
       "4           False   neutral          False  "
      ]
     },
     "execution_count": 49,
     "metadata": {},
     "output_type": "execute_result"
    }
   ],
   "source": [
    "transformed_tweets_sentiment.head(5)"
   ]
  },
  {
   "cell_type": "code",
   "execution_count": 50,
   "metadata": {},
   "outputs": [
    {
     "data": {
      "text/plain": [
       "Model_Results\n",
       "True     62\n",
       "False    39\n",
       "dtype: int64"
      ]
     },
     "execution_count": 50,
     "metadata": {},
     "output_type": "execute_result"
    }
   ],
   "source": [
    "transformed_tweets_sentiment.value_counts('Model_Results')"
   ]
  },
  {
   "cell_type": "code",
   "execution_count": 56,
   "metadata": {},
   "outputs": [
    {
     "name": "stdout",
     "output_type": "stream",
     "text": [
      "[0, 1, 2, 3, 5, 8, 9, 10, 12, 13, 14, 15, 17, 18, 19, 21, 22, 23, 25, 27, 28, 29, 30, 33, 35, 38, 39, 40, 41, 42, 43, 44, 45, 46, 48, 49, 51, 52, 53, 54, 56, 57, 58, 59, 63, 64, 67, 69, 72, 74, 79, 80, 81, 83, 84, 85, 86, 88, 89, 92, 98, 99, 100]\n",
      "63\n"
     ]
    }
   ],
   "source": [
    "#Create a list of indexes where Survey_Results is True\n",
    "survey_results_true = transformed_tweets_sentiment[transformed_tweets_sentiment['Survey_Results'] == True].index.tolist()\n",
    "print(survey_results_true)\n",
    "#Count the total number of tweets where Survey_Results is True\n",
    "print(len(survey_results_true))\n"
   ]
  },
  {
   "cell_type": "code",
   "execution_count": 57,
   "metadata": {},
   "outputs": [
    {
     "name": "stdout",
     "output_type": "stream",
     "text": [
      "[1, 2, 3, 7, 8, 9, 11, 12, 13, 14, 19, 20, 21, 28, 29, 30, 33, 35, 37, 38, 39, 40, 41, 43, 44, 45, 46, 48, 49, 51, 52, 53, 56, 57, 58, 59, 60, 63, 64, 67, 68, 69, 72, 75, 76, 77, 79, 80, 81, 84, 85, 86, 87, 88, 90, 91, 92, 95, 97, 98, 99, 100]\n",
      "62\n"
     ]
    }
   ],
   "source": [
    "#Create a list of indexes where Model_Results is True\n",
    "model_results_true = transformed_tweets_sentiment[transformed_tweets_sentiment['Model_Results'] == True].index.tolist()\n",
    "print(model_results_true)\n",
    "#Count the total number of tweets where Model_Results is True\n",
    "print(len(model_results_true))"
   ]
  },
  {
   "cell_type": "code",
   "execution_count": 58,
   "metadata": {},
   "outputs": [
    {
     "data": {
      "text/plain": [
       "array([[24, 14],\n",
       "       [15, 48]], dtype=int64)"
      ]
     },
     "execution_count": 58,
     "metadata": {},
     "output_type": "execute_result"
    }
   ],
   "source": [
    "#Find confusion matrix for the Survey_Results and Model_Results \n",
    "from sklearn.metrics import confusion_matrix\n",
    "confusion_matrix(transformed_tweets_sentiment['Survey_Results'], transformed_tweets_sentiment['Model_Results'])"
   ]
  },
  {
   "cell_type": "code",
   "execution_count": 59,
   "metadata": {},
   "outputs": [
    {
     "data": {
      "text/plain": [
       "94"
      ]
     },
     "execution_count": 59,
     "metadata": {},
     "output_type": "execute_result"
    }
   ],
   "source": [
    "# filter out the rows that contain \"update\" in the text column transformed_tweets_sentiment_1\n",
    "transformed_tweets_sentiment_1 = transformed_tweets_sentiment[~transformed_tweets_sentiment['text'].str.contains(\"update\")]\n",
    "#Show the length of the new dataframe\n",
    "len(transformed_tweets_sentiment_1)"
   ]
  },
  {
   "cell_type": "code",
   "execution_count": 60,
   "metadata": {},
   "outputs": [
    {
     "data": {
      "text/plain": [
       "55"
      ]
     },
     "execution_count": 60,
     "metadata": {},
     "output_type": "execute_result"
    }
   ],
   "source": [
    "# filter out the rows that contain \"delay\" in the text column transformed_tweets_sentiment_1\n",
    "transformed_tweets_sentiment_2 = transformed_tweets_sentiment_1[~transformed_tweets_sentiment_1['text'].str.contains(\"delay\")]\n",
    "#Show the length of the new dataframe\n",
    "len(transformed_tweets_sentiment_2)"
   ]
  },
  {
   "cell_type": "code",
   "execution_count": 61,
   "metadata": {},
   "outputs": [
    {
     "data": {
      "text/plain": [
       "array([[15,  4],\n",
       "       [ 8, 28]], dtype=int64)"
      ]
     },
     "execution_count": 61,
     "metadata": {},
     "output_type": "execute_result"
    }
   ],
   "source": [
    "#Create a confusion matrix for the new dataframe transformed_tweets_sentiment_2 where Survey_result is ground truth and Model_Results is the prediction\n",
    "confusion_matrix(transformed_tweets_sentiment_2['Survey_Results'], transformed_tweets_sentiment_2['Model_Results'])\n"
   ]
  },
  {
   "cell_type": "code",
   "execution_count": 65,
   "metadata": {},
   "outputs": [
    {
     "data": {
      "text/plain": [
       "Text(50.722222222222214, 0.5, 'True Labels')"
      ]
     },
     "execution_count": 65,
     "metadata": {},
     "output_type": "execute_result"
    },
    {
     "data": {
      "image/png": "[encoded data removed]",
      "text/plain": [
       "<Figure size 640x480 with 2 Axes>"
      ]
     },
     "metadata": {},
     "output_type": "display_data"
    }
   ],
   "source": [
    "#Draw confusion heatmap\n",
    "import seaborn as sns\n",
    "import matplotlib.pyplot as plt\n",
    "from sklearn.metrics import confusion_matrix\n",
    "from sklearn.metrics import classification_report\n",
    "\n",
    "cm = confusion_matrix(transformed_tweets_sentiment_2['Survey_Results'], transformed_tweets_sentiment_2['Model_Results'])\n",
    "ax = plt.subplot()\n",
    "sns.heatmap(cm, annot=True, ax = ax, cmap='Blues', fmt=\"d\")\n",
    "\n",
    "#Title and labels\n",
    "ax.set_title('Confusion Matrix')\n",
    "ax.set_xlabel('Predicted Labels')\n",
    "ax.set_ylabel('True Labels')\n",
    "\n"
   ]
  },
  {
   "cell_type": "code",
   "execution_count": 64,
   "metadata": {},
   "outputs": [
    {
     "name": "stdout",
     "output_type": "stream",
     "text": [
      "True Positive:  15\n",
      "True Negative:  28\n",
      "False Positive:  8\n",
      "False Negative:  4\n"
     ]
    }
   ],
   "source": [
    "#Show TP, TN, FP, FN\n",
    "print('True Positive: ', cm[0][0])\n",
    "print('True Negative: ', cm[1][1])\n",
    "print('False Positive: ', cm[1][0])\n",
    "print('False Negative: ', cm[0][1])"
   ]
  },
  {
   "cell_type": "code",
   "execution_count": 62,
   "metadata": {},
   "outputs": [
    {
     "data": {
      "text/plain": [
       "0.7818181818181819"
      ]
     },
     "execution_count": 62,
     "metadata": {},
     "output_type": "execute_result"
    }
   ],
   "source": [
    "#calculate the accuracy of the model\n",
    "from sklearn.metrics import accuracy_score\n",
    "accuracy_score(transformed_tweets_sentiment_2['Survey_Results'], transformed_tweets_sentiment_2['Model_Results'])\n"
   ]
  },
  {
   "cell_type": "code",
   "execution_count": 22,
   "metadata": {},
   "outputs": [
    {
     "name": "stderr",
     "output_type": "stream",
     "text": [
      "Some weights of the model checkpoint at cardiffnlp/twitter-roberta-base-sentiment-latest were not used when initializing RobertaForSequenceClassification: ['roberta.pooler.dense.bias', 'roberta.pooler.dense.weight']\n",
      "- This IS expected if you are initializing RobertaForSequenceClassification from the checkpoint of a model trained on another task or with another architecture (e.g. initializing a BertForSequenceClassification model from a BertForPreTraining model).\n",
      "- This IS NOT expected if you are initializing RobertaForSequenceClassification from the checkpoint of a model that you expect to be exactly identical (initializing a BertForSequenceClassification model from a BertForSequenceClassification model).\n"
     ]
    },
    {
     "name": "stdout",
     "output_type": "stream",
     "text": [
      "Number of total tweets after filtering out the rows that contain 'negative' in the sentiment column:  39\n"
     ]
    }
   ],
   "source": [
    "#Check for sentiment in the all_tweets_edited dataset using the tweetnlp library and save the results in a new column called sentiment\n",
    "model = tweetnlp.load_model('sentiment')\n",
    "#Create a new dataframe called transformed_tweets_sentiment as a copy of all_tweets_edited\n",
    "transformed_tweets_sentiment = survey_edited.copy()\n",
    "transformed_tweets_sentiment['sentiment'] = transformed_tweets_sentiment['text'].apply(lambda x: model.predict(x)['label'])\n",
    "\n",
    "# Filter out rows that contaion \"negative\" in the sentiment column\n",
    "transformed_tweets_sentiment = transformed_tweets_sentiment[~transformed_tweets_sentiment['sentiment'].str.contains(\"negative\")]\n",
    "number_total_tweets = len(transformed_tweets_sentiment)\n",
    "\n",
    "#Printing tweet length after filtering out the rows that contain \"negative\" in the sentiment column\n",
    "print(\"Number of total tweets after filtering out the rows that contain 'negative' in the sentiment column: \", number_total_tweets)"
   ]
  },
  {
   "cell_type": "code",
   "execution_count": 26,
   "metadata": {},
   "outputs": [
    {
     "data": {
      "text/html": [
       "<div>\n",
       "<style scoped>\n",
       "    .dataframe tbody tr th:only-of-type {\n",
       "        vertical-align: middle;\n",
       "    }\n",
       "\n",
       "    .dataframe tbody tr th {\n",
       "        vertical-align: top;\n",
       "    }\n",
       "\n",
       "    .dataframe thead th {\n",
       "        text-align: right;\n",
       "    }\n",
       "</style>\n",
       "<table border=\"1\" class=\"dataframe\">\n",
       "  <thead>\n",
       "    <tr style=\"text-align: right;\">\n",
       "      <th></th>\n",
       "      <th>text</th>\n",
       "      <th>Complaint number</th>\n",
       "      <th>non complaint number</th>\n",
       "      <th>uncertain number</th>\n",
       "      <th>Cem</th>\n",
       "      <th>ecem</th>\n",
       "      <th>Shinu J</th>\n",
       "      <th>Akshay</th>\n",
       "      <th>Erjon</th>\n",
       "      <th>pattern</th>\n",
       "      <th>Survey_Results</th>\n",
       "      <th>sentiment</th>\n",
       "      <th>Model_Results</th>\n",
       "    </tr>\n",
       "  </thead>\n",
       "  <tbody>\n",
       "    <tr>\n",
       "      <th>0</th>\n",
       "      <td>@TLRailUK why don't the doors open at every st...</td>\n",
       "      <td>5</td>\n",
       "      <td>0</td>\n",
       "      <td>0</td>\n",
       "      <td>Doors</td>\n",
       "      <td>Doors</td>\n",
       "      <td>Doors</td>\n",
       "      <td>Door</td>\n",
       "      <td>doors</td>\n",
       "      <td>500</td>\n",
       "      <td>True</td>\n",
       "      <td>neutral</td>\n",
       "      <td>True</td>\n",
       "    </tr>\n",
       "  </tbody>\n",
       "</table>\n",
       "</div>"
      ],
      "text/plain": [
       "                                                text  Complaint number  \\\n",
       "0  @TLRailUK why don't the doors open at every st...                 5   \n",
       "\n",
       "   non complaint number  uncertain number    Cem   ecem Shinu J Akshay  Erjon  \\\n",
       "0                     0                 0  Doors  Doors   Doors   Door  doors   \n",
       "\n",
       "  pattern  Survey_Results sentiment  Model_Results  \n",
       "0     500            True   neutral           True  "
      ]
     },
     "execution_count": 26,
     "metadata": {},
     "output_type": "execute_result"
    }
   ],
   "source": [
    "#Create a column and write True if the sentiment is negative and False if the sentiment is positive or neutral\n",
    "transformed_tweets_sentiment['Model_Results'] = np.where(transformed_tweets_sentiment['sentiment'].isin(['negative']), False, True)\n",
    "transformed_tweets_sentiment.head(1)"
   ]
  },
  {
   "cell_type": "code",
   "execution_count": null,
   "metadata": {},
   "outputs": [],
   "source": []
  },
  {
   "cell_type": "code",
   "execution_count": null,
   "metadata": {},
   "outputs": [],
   "source": []
  }
 ],
 "metadata": {
  "kernelspec": {
   "display_name": "base",
   "language": "python",
   "name": "python3"
  },
  "language_info": {
   "codemirror_mode": {
    "name": "ipython",
    "version": 3
   },
   "file_extension": ".py",
   "mimetype": "text/x-python",
   "name": "python",
   "nbconvert_exporter": "python",
   "pygments_lexer": "ipython3",
   "version": "3.10.9"
  }
 },
 "nbformat": 4,
 "nbformat_minor": 2
}

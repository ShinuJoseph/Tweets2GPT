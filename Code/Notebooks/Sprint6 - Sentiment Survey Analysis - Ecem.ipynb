{
 "cells": [
  {
   "cell_type": "code",
   "execution_count": 1,
   "metadata": {},
   "outputs": [
    {
     "name": "stderr",
     "output_type": "stream",
     "text": [
      "2023-11-28 03:34:52,050\tINFO util.py:159 -- Outdated packages:\n",
      "  ipywidgets==7.6.5 found, needs ipywidgets>=8\n",
      "Run `pip install -U ipywidgets`, then restart the notebook server for rich notebook output.\n",
      "2023-11-28 03:34:52,265\tINFO util.py:159 -- Outdated packages:\n",
      "  ipywidgets==7.6.5 found, needs ipywidgets>=8\n",
      "Run `pip install -U ipywidgets`, then restart the notebook server for rich notebook output.\n"
     ]
    }
   ],
   "source": [
    "# import libraries\n",
    "import pandas as pd\n",
    "import numpy as np\n",
    "import matplotlib.pyplot as plt\n",
    "import tweepy\n",
    "import json\n",
    "import tweetnlp\n",
    "import openai"
   ]
  },
  {
   "cell_type": "code",
   "execution_count": 2,
   "metadata": {},
   "outputs": [],
   "source": [
    "# import functions\n",
    "import sys\n",
    "sys.path.append('../Functions/')  # Adjust the relative path as needed\n",
    "\n",
    "# from json_transform import get_all_keys, flatten_json"
   ]
  },
  {
   "cell_type": "code",
   "execution_count": 4,
   "metadata": {},
   "outputs": [],
   "source": [
    "''' \n",
    "The JSON data is nested, so we need to flatten it to be able to convert it to a DataFrame.\n",
    "We will use the get_all_keys() and flatten_json() functions from the json_transform.py file.\n",
    "After getting all the keys, we will convert them to a list and then flatten the JSON data.\n",
    "Convert the flattened data to a DataFrame and filter out the rows that contain \"update\" in the text column.\n",
    "'''\n",
    "all_tweets = pd.read_csv(\"../../Data/Processed/Sprint6 - sample_tweets_survey_answers - Ecem.csv\")"
   ]
  },
  {
   "cell_type": "code",
   "execution_count": 5,
   "metadata": {},
   "outputs": [
    {
     "data": {
      "text/html": [
       "<div>\n",
       "<style scoped>\n",
       "    .dataframe tbody tr th:only-of-type {\n",
       "        vertical-align: middle;\n",
       "    }\n",
       "\n",
       "    .dataframe tbody tr th {\n",
       "        vertical-align: top;\n",
       "    }\n",
       "\n",
       "    .dataframe thead th {\n",
       "        text-align: right;\n",
       "    }\n",
       "</style>\n",
       "<table border=\"1\" class=\"dataframe\">\n",
       "  <thead>\n",
       "    <tr style=\"text-align: right;\">\n",
       "      <th></th>\n",
       "      <th>Timestamp</th>\n",
       "      <th>What is your name?</th>\n",
       "      <th>@TLRailUK why don't the doors open at every station to save us folk having to touch the button?!</th>\n",
       "      <th>If complaint, whats the topic?</th>\n",
       "      <th>@TLRailUK When on phone to @LNER they said as it was cancelled they've also cancelled ticket and issued refund so now no ticket. That shows on time but all trains going via Croydon before reaching Stevenage so looks like all will be delayed/cancelled</th>\n",
       "      <th>If complaint, whats the topic?.1</th>\n",
       "      <th>@LiveCommute @bus131 @tlupdates @TLRailUK @brighton_line They are monopolies which go unregulated regarding genuine customer experience, hence three hour train journeys without tables, trays, heating, luggage racks even though they service two of Europes busiest airports. It's a failed industry.</th>\n",
       "      <th>If complaint, whats the topic?.2</th>\n",
       "      <th>@TLRailUK what is going on with the 17:11 from BFR to PLU? We've been on the train for the best part of an hour and are still stuck outside Deptford? Delay repay? Will it ever get to PLU?</th>\n",
       "      <th>If complaint, whats the topic?.3</th>\n",
       "      <th>...</th>\n",
       "      <th>1012 Thameslink train to Cambridge: Delayed - plat 7 1038 Great Northern train to Moorgate: On time - plat 1 1039 Great Northern train to Hertford North: Cancelled 1022 Thameslink train to Brighton: expected 1042 - plat 2 1043 Great Northern train to Moorgate: Cancelled</th>\n",
       "      <th>If complaint, whats the topic?.96</th>\n",
       "      <th>TRAVEL: 15 minute delays on @SouthernRailUK @TLRailUK at #Redhill due to a points failure</th>\n",
       "      <th>If complaint, whats the topic?.97</th>\n",
       "      <th>@TLRailUK What's happening?? Driver hasn't given an announcement in 20 mins - doors are locked and meanwhile trains are going past we could get on</th>\n",
       "      <th>If complaint, whats the topic?.98</th>\n",
       "      <th>Evening @tlrailuk - you cancel the 1724 ZFD to HHE due to no staff and the 1724 following service is overcrowded with no guard (we had one this morning) to tell that air con is broken - carriage 412114 - rear carriage going south.</th>\n",
       "      <th>If complaint, whats the topic?.99</th>\n",
       "      <th>@TLRailUK You opened the doors 20 seconds after a train on the parallel platform pulled away. That is absolutely terrible service.</th>\n",
       "      <th>If complaint, whats the topic?.100</th>\n",
       "    </tr>\n",
       "  </thead>\n",
       "  <tbody>\n",
       "    <tr>\n",
       "      <th>0</th>\n",
       "      <td>2023/10/31 1:37:36 pm CET</td>\n",
       "      <td>Cem</td>\n",
       "      <td>Complaint</td>\n",
       "      <td>Doors</td>\n",
       "      <td>Complaint</td>\n",
       "      <td>Delays</td>\n",
       "      <td>Complaint</td>\n",
       "      <td>Train General</td>\n",
       "      <td>Complaint</td>\n",
       "      <td>Delay</td>\n",
       "      <td>...</td>\n",
       "      <td>Complaint</td>\n",
       "      <td>Delay</td>\n",
       "      <td>Complaint</td>\n",
       "      <td>Delay</td>\n",
       "      <td>Complaint</td>\n",
       "      <td>Doors, Announcement, Train General</td>\n",
       "      <td>Non-Complaint</td>\n",
       "      <td>Service</td>\n",
       "      <td>Complaint</td>\n",
       "      <td>Doors</td>\n",
       "    </tr>\n",
       "    <tr>\n",
       "      <th>1</th>\n",
       "      <td>2023/10/31 1:37:57 pm CET</td>\n",
       "      <td>ecem</td>\n",
       "      <td>Complaint</td>\n",
       "      <td>Doors</td>\n",
       "      <td>Complaint</td>\n",
       "      <td>Delay</td>\n",
       "      <td>Complaint</td>\n",
       "      <td>Service</td>\n",
       "      <td>Complaint</td>\n",
       "      <td>Delay</td>\n",
       "      <td>...</td>\n",
       "      <td>Complaint</td>\n",
       "      <td>Delay</td>\n",
       "      <td>Complaint</td>\n",
       "      <td>Delay</td>\n",
       "      <td>Complaint</td>\n",
       "      <td>Announcement</td>\n",
       "      <td>Non-Complaint</td>\n",
       "      <td>HVAC</td>\n",
       "      <td>Complaint</td>\n",
       "      <td>Doors</td>\n",
       "    </tr>\n",
       "    <tr>\n",
       "      <th>2</th>\n",
       "      <td>2023/11/01 12:28:37 am CET</td>\n",
       "      <td>Shinu J</td>\n",
       "      <td>Complaint</td>\n",
       "      <td>Doors</td>\n",
       "      <td>Uncertain</td>\n",
       "      <td>NaN</td>\n",
       "      <td>Complaint</td>\n",
       "      <td>Absence of amenities</td>\n",
       "      <td>Complaint</td>\n",
       "      <td>Train Delay</td>\n",
       "      <td>...</td>\n",
       "      <td>Complaint</td>\n",
       "      <td>NaN</td>\n",
       "      <td>Non-Complaint</td>\n",
       "      <td>NaN</td>\n",
       "      <td>Complaint</td>\n",
       "      <td>No announcement, doors</td>\n",
       "      <td>Complaint</td>\n",
       "      <td>no staff, overcrowding</td>\n",
       "      <td>Complaint</td>\n",
       "      <td>doors, delays</td>\n",
       "    </tr>\n",
       "  </tbody>\n",
       "</table>\n",
       "<p>3 rows × 204 columns</p>\n",
       "</div>"
      ],
      "text/plain": [
       "                    Timestamp What is your name?  \\\n",
       "0   2023/10/31 1:37:36 pm CET                Cem   \n",
       "1   2023/10/31 1:37:57 pm CET               ecem   \n",
       "2  2023/11/01 12:28:37 am CET            Shinu J   \n",
       "\n",
       "  @TLRailUK why don't the doors open at every station to save us folk having to touch the button?!  \\\n",
       "0                                          Complaint                                                 \n",
       "1                                          Complaint                                                 \n",
       "2                                          Complaint                                                 \n",
       "\n",
       "  If complaint, whats the topic?  \\\n",
       "0                          Doors   \n",
       "1                          Doors   \n",
       "2                          Doors   \n",
       "\n",
       "  @TLRailUK When on phone to @LNER they said as it was cancelled they've also cancelled ticket and issued refund so now no ticket. That shows on time but all trains going via Croydon before reaching Stevenage so looks like all will be delayed/cancelled  \\\n",
       "0                                          Complaint                                                                                                                                                                                                           \n",
       "1                                          Complaint                                                                                                                                                                                                           \n",
       "2                                          Uncertain                                                                                                                                                                                                           \n",
       "\n",
       "  If complaint, whats the topic?.1  \\\n",
       "0                           Delays   \n",
       "1                            Delay   \n",
       "2                              NaN   \n",
       "\n",
       "  @LiveCommute @bus131 @tlupdates @TLRailUK @brighton_line They are monopolies which go unregulated regarding genuine customer experience, hence three hour train journeys without tables, trays, heating, luggage racks even though they service two of Europes busiest airports. It's a failed industry.  \\\n",
       "0                                          Complaint                                                                                                                                                                                                                                                         \n",
       "1                                          Complaint                                                                                                                                                                                                                                                         \n",
       "2                                          Complaint                                                                                                                                                                                                                                                         \n",
       "\n",
       "  If complaint, whats the topic?.2  \\\n",
       "0                    Train General   \n",
       "1                          Service   \n",
       "2             Absence of amenities   \n",
       "\n",
       "  @TLRailUK what is going on with the 17:11 from BFR to PLU? We've been on the train for the best part of an hour and are still stuck outside Deptford? Delay repay? Will it ever get to PLU?  \\\n",
       "0                                          Complaint                                                                                                                                            \n",
       "1                                          Complaint                                                                                                                                            \n",
       "2                                          Complaint                                                                                                                                            \n",
       "\n",
       "  If complaint, whats the topic?.3  ...  \\\n",
       "0                            Delay  ...   \n",
       "1                            Delay  ...   \n",
       "2                      Train Delay  ...   \n",
       "\n",
       "  1012 Thameslink train to Cambridge: Delayed - plat 7 1038 Great Northern train to Moorgate: On time - plat 1 1039 Great Northern train to Hertford North: Cancelled 1022 Thameslink train to Brighton: expected 1042 - plat 2 1043 Great Northern train to Moorgate: Cancelled  \\\n",
       "0                                          Complaint                                                                                                                                                                                                                               \n",
       "1                                          Complaint                                                                                                                                                                                                                               \n",
       "2                                          Complaint                                                                                                                                                                                                                               \n",
       "\n",
       "  If complaint, whats the topic?.96  \\\n",
       "0                             Delay   \n",
       "1                             Delay   \n",
       "2                               NaN   \n",
       "\n",
       "  TRAVEL: 15 minute delays on @SouthernRailUK @TLRailUK at #Redhill due to a points failure  \\\n",
       "0                                          Complaint                                          \n",
       "1                                          Complaint                                          \n",
       "2                                      Non-Complaint                                          \n",
       "\n",
       "  If complaint, whats the topic?.97  \\\n",
       "0                             Delay   \n",
       "1                             Delay   \n",
       "2                               NaN   \n",
       "\n",
       "  @TLRailUK What's happening?? Driver hasn't given an announcement in 20 mins - doors are locked and meanwhile trains are going past we could get on  \\\n",
       "0                                          Complaint                                                                                                   \n",
       "1                                          Complaint                                                                                                   \n",
       "2                                          Complaint                                                                                                   \n",
       "\n",
       "    If complaint, whats the topic?.98  \\\n",
       "0  Doors, Announcement, Train General   \n",
       "1                        Announcement   \n",
       "2              No announcement, doors   \n",
       "\n",
       "  Evening @tlrailuk - you cancel the 1724 ZFD to HHE due to no staff and the 1724 following service is overcrowded with no guard (we had one this morning) to tell that air con is broken - carriage 412114 - rear carriage going south.  \\\n",
       "0                                      Non-Complaint                                                                                                                                                                                       \n",
       "1                                      Non-Complaint                                                                                                                                                                                       \n",
       "2                                          Complaint                                                                                                                                                                                       \n",
       "\n",
       "  If complaint, whats the topic?.99  \\\n",
       "0                           Service   \n",
       "1                              HVAC   \n",
       "2            no staff, overcrowding   \n",
       "\n",
       "  @TLRailUK You opened the doors 20 seconds after a train on the parallel platform pulled away. That is absolutely terrible service.  \\\n",
       "0                                          Complaint                                                                                   \n",
       "1                                          Complaint                                                                                   \n",
       "2                                          Complaint                                                                                   \n",
       "\n",
       "  If complaint, whats the topic?.100  \n",
       "0                              Doors  \n",
       "1                              Doors  \n",
       "2                      doors, delays  \n",
       "\n",
       "[3 rows x 204 columns]"
      ]
     },
     "execution_count": 5,
     "metadata": {},
     "output_type": "execute_result"
    }
   ],
   "source": [
    "all_tweets.head(3)"
   ]
  },
  {
   "cell_type": "code",
   "execution_count": 7,
   "metadata": {},
   "outputs": [
    {
     "data": {
      "text/html": [
       "<div>\n",
       "<style scoped>\n",
       "    .dataframe tbody tr th:only-of-type {\n",
       "        vertical-align: middle;\n",
       "    }\n",
       "\n",
       "    .dataframe tbody tr th {\n",
       "        vertical-align: top;\n",
       "    }\n",
       "\n",
       "    .dataframe thead th {\n",
       "        text-align: right;\n",
       "    }\n",
       "</style>\n",
       "<table border=\"1\" class=\"dataframe\">\n",
       "  <thead>\n",
       "    <tr style=\"text-align: right;\">\n",
       "      <th></th>\n",
       "      <th>text</th>\n",
       "      <th>Complaint number</th>\n",
       "      <th>non complaint number</th>\n",
       "      <th>uncertain number</th>\n",
       "      <th>Cem</th>\n",
       "      <th>ecem</th>\n",
       "      <th>Shinu J</th>\n",
       "      <th>Akshay</th>\n",
       "      <th>Erjon</th>\n",
       "      <th>pattern</th>\n",
       "    </tr>\n",
       "  </thead>\n",
       "  <tbody>\n",
       "    <tr>\n",
       "      <th>0</th>\n",
       "      <td>@TLRailUK why don't the doors open at every st...</td>\n",
       "      <td>5</td>\n",
       "      <td>0</td>\n",
       "      <td>0</td>\n",
       "      <td>Doors</td>\n",
       "      <td>Doors</td>\n",
       "      <td>Doors</td>\n",
       "      <td>Door</td>\n",
       "      <td>doors</td>\n",
       "      <td>500</td>\n",
       "    </tr>\n",
       "    <tr>\n",
       "      <th>1</th>\n",
       "      <td>@TLRailUK When on phone to @LNER they said as ...</td>\n",
       "      <td>4</td>\n",
       "      <td>0</td>\n",
       "      <td>1</td>\n",
       "      <td>Delays</td>\n",
       "      <td>Delay</td>\n",
       "      <td>NaN</td>\n",
       "      <td>Delay</td>\n",
       "      <td>cancellations</td>\n",
       "      <td>401</td>\n",
       "    </tr>\n",
       "    <tr>\n",
       "      <th>2</th>\n",
       "      <td>@LiveCommute @bus131 @tlupdates @TLRailUK @bri...</td>\n",
       "      <td>5</td>\n",
       "      <td>0</td>\n",
       "      <td>0</td>\n",
       "      <td>Train General</td>\n",
       "      <td>Service</td>\n",
       "      <td>Absence of amenities</td>\n",
       "      <td>Customer experience</td>\n",
       "      <td>Experience</td>\n",
       "      <td>500</td>\n",
       "    </tr>\n",
       "  </tbody>\n",
       "</table>\n",
       "</div>"
      ],
      "text/plain": [
       "                                                text  Complaint number  \\\n",
       "0  @TLRailUK why don't the doors open at every st...                 5   \n",
       "1  @TLRailUK When on phone to @LNER they said as ...                 4   \n",
       "2  @LiveCommute @bus131 @tlupdates @TLRailUK @bri...                 5   \n",
       "\n",
       "   non complaint number  uncertain number            Cem     ecem  \\\n",
       "0                     0                 0          Doors    Doors   \n",
       "1                     0                 1         Delays    Delay   \n",
       "2                     0                 0  Train General  Service   \n",
       "\n",
       "                Shinu J                Akshay          Erjon pattern  \n",
       "0                 Doors                  Door          doors     500  \n",
       "1                   NaN                 Delay  cancellations     401  \n",
       "2  Absence of amenities  Customer experience      Experience     500  "
      ]
     },
     "execution_count": 7,
     "metadata": {},
     "output_type": "execute_result"
    }
   ],
   "source": [
    "# Creating a new DataFrame with the required columns\n",
    "new_columns = [\"text\", \"Complaint number\", \"non complaint number\", \n",
    "               \"uncertain number\", \"Cem\", \"ecem\", \"Shinu J\", \n",
    "               \"Akshay\", \"Erjon\"]\n",
    "survey_edited = pd.DataFrame(columns=new_columns)\n",
    "\n",
    "# Populate the \"text\" column with the column names of the complaint statements\n",
    "text_columns = all_tweets.columns[2::2]  # Selecting every odd-numbered column starting from the 3rd\n",
    "survey_edited[\"text\"] = text_columns\n",
    "\n",
    "# Count the number of complaints, non-complaints, and uncertain entries for each text\n",
    "complaint_counts = []\n",
    "non_complaint_counts = []\n",
    "uncertain_counts = []\n",
    "topics = {name: [] for name in new_columns[4:]}\n",
    "\n",
    "for text_col in text_columns:\n",
    "    # Count the occurrences of each type in the corresponding column\n",
    "    complaint_counts.append((all_tweets[text_col] == \"Complaint\").sum())\n",
    "    non_complaint_counts.append((all_tweets[text_col] == \"Non-Complaint\").sum())\n",
    "    uncertain_counts.append((all_tweets[text_col] == \"Uncertain\").sum())\n",
    "\n",
    "# Iterate over each text column\n",
    "for text_col in text_columns:\n",
    "    topic_col = all_tweets.columns[all_tweets.columns.get_loc(text_col) + 1]  # The next column contains the topics\n",
    "    \n",
    "    # Reset current_topics for each text column\n",
    "    current_topics = {reviewer: None for reviewer in topics}\n",
    "    \n",
    "    # Iterate over each row in the DataFrame\n",
    "    for _, row in all_tweets.iterrows():\n",
    "        reviewer_name = row['What is your name?'].strip().lower()\n",
    "        for reviewer in topics:\n",
    "            # Check if the lowercase stripped name matches any reviewer\n",
    "            if reviewer.lower() == reviewer_name:\n",
    "                current_topics[reviewer] = row[topic_col]\n",
    "                break\n",
    "\n",
    "    # Append the topic for each reviewer\n",
    "    for reviewer in topics:\n",
    "        topics[reviewer].append(current_topics[reviewer])\n",
    "\n",
    "# Now, add the topics to the new DataFrame\n",
    "for reviewer, topic_list in topics.items():\n",
    "    survey_edited[reviewer] = topic_list\n",
    "\n",
    "# Add counts to the new DataFrame\n",
    "survey_edited[\"Complaint number\"] = complaint_counts\n",
    "survey_edited[\"non complaint number\"] = non_complaint_counts\n",
    "survey_edited[\"uncertain number\"] = uncertain_counts\n",
    "\n",
    "# add the pattern column showing complaint number + non complaint number + uncertain number\n",
    "\n",
    "survey_edited['pattern'] = survey_edited['Complaint number'].astype(str) + survey_edited['non complaint number'].astype(str) + survey_edited['uncertain number'].astype(str)\n",
    "survey_edited['pattern'].value_counts()\n",
    "survey_edited.head(3)"
   ]
  },
  {
   "cell_type": "code",
   "execution_count": 8,
   "metadata": {},
   "outputs": [],
   "source": [
    "#Create a copy of the DataFrame named survey_edited\n",
    "all_tweets_edited = survey_edited.copy()"
   ]
  },
  {
   "cell_type": "code",
   "execution_count": 9,
   "metadata": {},
   "outputs": [
    {
     "data": {
      "text/plain": [
       "500    30\n",
       "230    13\n",
       "401    10\n",
       "410    10\n",
       "302     9\n",
       "050     8\n",
       "140     7\n",
       "311     3\n",
       "041     3\n",
       "113     2\n",
       "221     2\n",
       "023     1\n",
       "131     1\n",
       "203     1\n",
       "320     1\n",
       "Name: pattern, dtype: int64"
      ]
     },
     "execution_count": 9,
     "metadata": {},
     "output_type": "execute_result"
    }
   ],
   "source": [
    "survey_edited[\"pattern\"].value_counts()"
   ]
  },
  {
   "cell_type": "code",
   "execution_count": 10,
   "metadata": {},
   "outputs": [
    {
     "name": "stdout",
     "output_type": "stream",
     "text": [
      "The number of tweets in which we all agree is a complaint:  30\n",
      "The number of tweets in which we all agree is not a complaint:  8\n",
      "The number of tweets in which its 4 votes for a complaint:  20\n",
      "The number of tweets in which its 4 votes for a non complaint:  10\n",
      "The number of tweets where there is no agreement:  33\n"
     ]
    }
   ],
   "source": [
    "# Print the pattern distribution\n",
    "print('The number of tweets in which we all agree is a complaint: ', len(survey_edited[survey_edited['pattern'].str.contains('500')]))\n",
    "print('The number of tweets in which we all agree is not a complaint: ', len(survey_edited[survey_edited['pattern'].str.contains('050')]))\n",
    "print('The number of tweets in which its 4 votes for a complaint: ', len(survey_edited[survey_edited['pattern'].str.contains('410|401')]))\n",
    "print('The number of tweets in which its 4 votes for a non complaint: ', len(survey_edited[survey_edited['pattern'].str.contains('140|041')]))\n",
    "print('The number of tweets where there is no agreement: ', len(survey_edited[survey_edited['pattern'].str.contains('3|2')]))"
   ]
  },
  {
   "cell_type": "code",
   "execution_count": 11,
   "metadata": {},
   "outputs": [
    {
     "data": {
      "text/html": [
       "<div>\n",
       "<style scoped>\n",
       "    .dataframe tbody tr th:only-of-type {\n",
       "        vertical-align: middle;\n",
       "    }\n",
       "\n",
       "    .dataframe tbody tr th {\n",
       "        vertical-align: top;\n",
       "    }\n",
       "\n",
       "    .dataframe thead th {\n",
       "        text-align: right;\n",
       "    }\n",
       "</style>\n",
       "<table border=\"1\" class=\"dataframe\">\n",
       "  <thead>\n",
       "    <tr style=\"text-align: right;\">\n",
       "      <th></th>\n",
       "      <th>text</th>\n",
       "      <th>Complaint number</th>\n",
       "      <th>non complaint number</th>\n",
       "      <th>uncertain number</th>\n",
       "      <th>Cem</th>\n",
       "      <th>ecem</th>\n",
       "      <th>Shinu J</th>\n",
       "      <th>Akshay</th>\n",
       "      <th>Erjon</th>\n",
       "      <th>pattern</th>\n",
       "      <th>sentiment_by_survey</th>\n",
       "    </tr>\n",
       "  </thead>\n",
       "  <tbody>\n",
       "    <tr>\n",
       "      <th>0</th>\n",
       "      <td>@TLRailUK why don't the doors open at every st...</td>\n",
       "      <td>5</td>\n",
       "      <td>0</td>\n",
       "      <td>0</td>\n",
       "      <td>Doors</td>\n",
       "      <td>Doors</td>\n",
       "      <td>Doors</td>\n",
       "      <td>Door</td>\n",
       "      <td>doors</td>\n",
       "      <td>500</td>\n",
       "      <td>True</td>\n",
       "    </tr>\n",
       "  </tbody>\n",
       "</table>\n",
       "</div>"
      ],
      "text/plain": [
       "                                                text  Complaint number  \\\n",
       "0  @TLRailUK why don't the doors open at every st...                 5   \n",
       "\n",
       "   non complaint number  uncertain number    Cem   ecem Shinu J Akshay  Erjon  \\\n",
       "0                     0                 0  Doors  Doors   Doors   Door  doors   \n",
       "\n",
       "  pattern  sentiment_by_survey  \n",
       "0     500                 True  "
      ]
     },
     "execution_count": 11,
     "metadata": {},
     "output_type": "execute_result"
    }
   ],
   "source": [
    "#Create a column with the name of sentiment_by_survey that contains True False column where pattern is 500, 410 or 401\n",
    "survey_edited['sentiment_by_survey'] = np.where(survey_edited['pattern'].str.contains('500|410|401'), True, False)\n",
    "survey_edited.head(1)"
   ]
  },
  {
   "cell_type": "code",
   "execution_count": 12,
   "metadata": {},
   "outputs": [
    {
     "name": "stdout",
     "output_type": "stream",
     "text": [
      "Number of total tweets after filtering out the rows that contain 'update' in the text column of modelling dataset:  94\n"
     ]
    }
   ],
   "source": [
    "# filter out the rows that contain \"update\" in the text column of all_tweets_edited\n",
    "all_tweets_edited = all_tweets_edited[~all_tweets_edited['text'].str.contains(\"update\")]\n",
    "number_total_tweets = len(all_tweets_edited)\n",
    "\n",
    "#Printing tweet length after filtering out the rows that contain \"update\" in the text column\n",
    "print(\"Number of total tweets after filtering out the rows that contain 'update' in the text column of modelling dataset: \", number_total_tweets)"
   ]
  },
  {
   "cell_type": "code",
   "execution_count": 13,
   "metadata": {},
   "outputs": [
    {
     "name": "stdout",
     "output_type": "stream",
     "text": [
      "Number of total tweets after filtering out the rows that contain 'update' in the text column of survey dataset:  94\n"
     ]
    }
   ],
   "source": [
    "# filter out the rows that contain \"update\" in the text column of survey_edited\n",
    "survey_edited = survey_edited[~survey_edited['text'].str.contains(\"update\")]\n",
    "number_total_tweets = len(survey_edited)\n",
    "\n",
    "#Printing tweet length after filtering out the rows that contain \"update\" in the text column\n",
    "print(\"Number of total tweets after filtering out the rows that contain 'update' in the text column of survey dataset: \", number_total_tweets)"
   ]
  },
  {
   "cell_type": "code",
   "execution_count": 14,
   "metadata": {},
   "outputs": [
    {
     "name": "stdout",
     "output_type": "stream",
     "text": [
      "Number of total tweets after filtering out the duplicated rows of modelling dataset:  94\n",
      "Number of total tweets after filtering out the duplicated rows of survey dataset:  94\n"
     ]
    }
   ],
   "source": [
    "# filter duplicated rows of all_tweets_edited\n",
    "all_tweets_edited = all_tweets_edited.drop_duplicates(subset=['text'])\n",
    "number_total_tweets = len(all_tweets_edited)\n",
    "\n",
    "#Printing tweet length after filtering out the duplicated rows\n",
    "print(\"Number of total tweets after filtering out the duplicated rows of modelling dataset: \", number_total_tweets)\n",
    "\n",
    "# filter duplicated rows of survey_edited\n",
    "survey_edited = survey_edited.drop_duplicates(subset=['text'])\n",
    "number_total_tweets = len(survey_edited)\n",
    "\n",
    "#Printing tweet length after filtering out the duplicated rows\n",
    "print(\"Number of total tweets after filtering out the duplicated rows of survey dataset: \", number_total_tweets)"
   ]
  },
  {
   "cell_type": "code",
   "execution_count": 15,
   "metadata": {},
   "outputs": [
    {
     "name": "stdout",
     "output_type": "stream",
     "text": [
      "Number of total tweets after filtering out the rows that contain 'delay' in the text column of modelling dataset:  55\n",
      "Number of total tweets after filtering out the rows that contain 'delay' in the text column of survey dataset:  55\n"
     ]
    }
   ],
   "source": [
    "# filter out the rows that contain \"delay\" in the text column of all_tweets_edited\n",
    "all_tweets_edited = all_tweets_edited[~all_tweets_edited['text'].str.contains(\"delay\")]\n",
    "number_total_tweets = len(all_tweets_edited)\n",
    "\n",
    "#Printing tweet length after filtering out the rows that contain \"delay\" in the text column\n",
    "print(\"Number of total tweets after filtering out the rows that contain 'delay' in the text column of modelling dataset: \", number_total_tweets)\n",
    "\n",
    "# filter out the rows that contain \"delay\" in the text column of survey_edited\n",
    "survey_edited = survey_edited[~survey_edited['text'].str.contains(\"delay\")]\n",
    "number_total_tweets = len(survey_edited)\n",
    "\n",
    "#Printing tweet length after filtering out the rows that contain \"delay\" in the text column\n",
    "print(\"Number of total tweets after filtering out the rows that contain 'delay' in the text column of survey dataset: \", number_total_tweets)"
   ]
  },
  {
   "cell_type": "code",
   "execution_count": 16,
   "metadata": {},
   "outputs": [
    {
     "data": {
      "text/html": [
       "<div>\n",
       "<style scoped>\n",
       "    .dataframe tbody tr th:only-of-type {\n",
       "        vertical-align: middle;\n",
       "    }\n",
       "\n",
       "    .dataframe tbody tr th {\n",
       "        vertical-align: top;\n",
       "    }\n",
       "\n",
       "    .dataframe thead th {\n",
       "        text-align: right;\n",
       "    }\n",
       "</style>\n",
       "<table border=\"1\" class=\"dataframe\">\n",
       "  <thead>\n",
       "    <tr style=\"text-align: right;\">\n",
       "      <th></th>\n",
       "      <th>text</th>\n",
       "      <th>Complaint number</th>\n",
       "      <th>non complaint number</th>\n",
       "      <th>uncertain number</th>\n",
       "      <th>Cem</th>\n",
       "      <th>ecem</th>\n",
       "      <th>Shinu J</th>\n",
       "      <th>Akshay</th>\n",
       "      <th>Erjon</th>\n",
       "      <th>pattern</th>\n",
       "      <th>sentiment_by_survey</th>\n",
       "    </tr>\n",
       "  </thead>\n",
       "  <tbody>\n",
       "    <tr>\n",
       "      <th>0</th>\n",
       "      <td>@TLRailUK why don't the doors open at every st...</td>\n",
       "      <td>5</td>\n",
       "      <td>0</td>\n",
       "      <td>0</td>\n",
       "      <td>Doors</td>\n",
       "      <td>Doors</td>\n",
       "      <td>Doors</td>\n",
       "      <td>Door</td>\n",
       "      <td>doors</td>\n",
       "      <td>500</td>\n",
       "      <td>True</td>\n",
       "    </tr>\n",
       "  </tbody>\n",
       "</table>\n",
       "</div>"
      ],
      "text/plain": [
       "                                                text  Complaint number  \\\n",
       "0  @TLRailUK why don't the doors open at every st...                 5   \n",
       "\n",
       "   non complaint number  uncertain number    Cem   ecem Shinu J Akshay  Erjon  \\\n",
       "0                     0                 0  Doors  Doors   Doors   Door  doors   \n",
       "\n",
       "  pattern  sentiment_by_survey  \n",
       "0     500                 True  "
      ]
     },
     "execution_count": 16,
     "metadata": {},
     "output_type": "execute_result"
    }
   ],
   "source": [
    "survey_edited.head(1)"
   ]
  },
  {
   "cell_type": "code",
   "execution_count": 17,
   "metadata": {},
   "outputs": [
    {
     "name": "stderr",
     "output_type": "stream",
     "text": [
      "Some weights of the model checkpoint at cardiffnlp/twitter-roberta-base-sentiment-latest were not used when initializing RobertaForSequenceClassification: ['roberta.pooler.dense.weight', 'roberta.pooler.dense.bias']\n",
      "- This IS expected if you are initializing RobertaForSequenceClassification from the checkpoint of a model trained on another task or with another architecture (e.g. initializing a BertForSequenceClassification model from a BertForPreTraining model).\n",
      "- This IS NOT expected if you are initializing RobertaForSequenceClassification from the checkpoint of a model that you expect to be exactly identical (initializing a BertForSequenceClassification model from a BertForSequenceClassification model).\n"
     ]
    },
    {
     "name": "stdout",
     "output_type": "stream",
     "text": [
      "Number of total tweets after filtering out the rows that contain 'negative' in the sentiment column:  23\n"
     ]
    }
   ],
   "source": [
    "#Check for sentiment in the all_tweets_edited dataset using the tweetnlp library and save the results in a new column called sentiment\n",
    "model = tweetnlp.load_model('sentiment')\n",
    "#Create a new dataframe called transformed_tweets_sentiment as a copy of all_tweets_edited\n",
    "transformed_tweets_sentiment = all_tweets_edited.copy()\n",
    "transformed_tweets_sentiment['sentiment'] = transformed_tweets_sentiment['text'].apply(lambda x: model.predict(x)['label'])\n",
    "\n",
    "# Filter out rows that contaion \"negative\" in the sentiment column\n",
    "transformed_tweets_sentiment = transformed_tweets_sentiment[~transformed_tweets_sentiment['sentiment'].str.contains(\"negative\")]\n",
    "number_total_tweets = len(transformed_tweets_sentiment)\n",
    "\n",
    "#Printing tweet length after filtering out the rows that contain \"negative\" in the sentiment column\n",
    "print(\"Number of total tweets after filtering out the rows that contain 'negative' in the sentiment column: \", number_total_tweets)"
   ]
  },
  {
   "cell_type": "code",
   "execution_count": 18,
   "metadata": {},
   "outputs": [
    {
     "data": {
      "text/html": [
       "<div>\n",
       "<style scoped>\n",
       "    .dataframe tbody tr th:only-of-type {\n",
       "        vertical-align: middle;\n",
       "    }\n",
       "\n",
       "    .dataframe tbody tr th {\n",
       "        vertical-align: top;\n",
       "    }\n",
       "\n",
       "    .dataframe thead th {\n",
       "        text-align: right;\n",
       "    }\n",
       "</style>\n",
       "<table border=\"1\" class=\"dataframe\">\n",
       "  <thead>\n",
       "    <tr style=\"text-align: right;\">\n",
       "      <th></th>\n",
       "      <th>text</th>\n",
       "      <th>Complaint number</th>\n",
       "      <th>non complaint number</th>\n",
       "      <th>uncertain number</th>\n",
       "      <th>Cem</th>\n",
       "      <th>ecem</th>\n",
       "      <th>Shinu J</th>\n",
       "      <th>Akshay</th>\n",
       "      <th>Erjon</th>\n",
       "      <th>pattern</th>\n",
       "      <th>sentiment</th>\n",
       "      <th>sentiment_by_model</th>\n",
       "    </tr>\n",
       "  </thead>\n",
       "  <tbody>\n",
       "    <tr>\n",
       "      <th>0</th>\n",
       "      <td>@TLRailUK why don't the doors open at every st...</td>\n",
       "      <td>5</td>\n",
       "      <td>0</td>\n",
       "      <td>0</td>\n",
       "      <td>Doors</td>\n",
       "      <td>Doors</td>\n",
       "      <td>Doors</td>\n",
       "      <td>Door</td>\n",
       "      <td>doors</td>\n",
       "      <td>500</td>\n",
       "      <td>neutral</td>\n",
       "      <td>True</td>\n",
       "    </tr>\n",
       "  </tbody>\n",
       "</table>\n",
       "</div>"
      ],
      "text/plain": [
       "                                                text  Complaint number  \\\n",
       "0  @TLRailUK why don't the doors open at every st...                 5   \n",
       "\n",
       "   non complaint number  uncertain number    Cem   ecem Shinu J Akshay  Erjon  \\\n",
       "0                     0                 0  Doors  Doors   Doors   Door  doors   \n",
       "\n",
       "  pattern sentiment  sentiment_by_model  \n",
       "0     500   neutral                True  "
      ]
     },
     "execution_count": 18,
     "metadata": {},
     "output_type": "execute_result"
    }
   ],
   "source": [
    "#Create a column named sentiment_by_model that contains True if the sentiment is negative and False if the sentiment is positive to all_tweets_edited\n",
    "transformed_tweets_sentiment['sentiment_by_model'] = np.where(transformed_tweets_sentiment['sentiment'].str.contains('negative'), False, True)\n",
    "transformed_tweets_sentiment.head(1)    "
   ]
  },
  {
   "cell_type": "code",
   "execution_count": 19,
   "metadata": {},
   "outputs": [
    {
     "data": {
      "text/html": [
       "<div>\n",
       "<style scoped>\n",
       "    .dataframe tbody tr th:only-of-type {\n",
       "        vertical-align: middle;\n",
       "    }\n",
       "\n",
       "    .dataframe tbody tr th {\n",
       "        vertical-align: top;\n",
       "    }\n",
       "\n",
       "    .dataframe thead th {\n",
       "        text-align: right;\n",
       "    }\n",
       "</style>\n",
       "<table border=\"1\" class=\"dataframe\">\n",
       "  <thead>\n",
       "    <tr style=\"text-align: right;\">\n",
       "      <th></th>\n",
       "      <th>text</th>\n",
       "      <th>Complaint number</th>\n",
       "      <th>non complaint number</th>\n",
       "      <th>uncertain number</th>\n",
       "      <th>Cem</th>\n",
       "      <th>ecem</th>\n",
       "      <th>Shinu J</th>\n",
       "      <th>Akshay</th>\n",
       "      <th>Erjon</th>\n",
       "      <th>pattern</th>\n",
       "      <th>sentiment_by_survey</th>\n",
       "      <th>sentiment_by_model</th>\n",
       "    </tr>\n",
       "  </thead>\n",
       "  <tbody>\n",
       "    <tr>\n",
       "      <th>0</th>\n",
       "      <td>@TLRailUK why don't the doors open at every st...</td>\n",
       "      <td>5</td>\n",
       "      <td>0</td>\n",
       "      <td>0</td>\n",
       "      <td>Doors</td>\n",
       "      <td>Doors</td>\n",
       "      <td>Doors</td>\n",
       "      <td>Door</td>\n",
       "      <td>doors</td>\n",
       "      <td>500</td>\n",
       "      <td>True</td>\n",
       "      <td>True</td>\n",
       "    </tr>\n",
       "  </tbody>\n",
       "</table>\n",
       "</div>"
      ],
      "text/plain": [
       "                                                text  Complaint number  \\\n",
       "0  @TLRailUK why don't the doors open at every st...                 5   \n",
       "\n",
       "   non complaint number  uncertain number    Cem   ecem Shinu J Akshay  Erjon  \\\n",
       "0                     0                 0  Doors  Doors   Doors   Door  doors   \n",
       "\n",
       "  pattern  sentiment_by_survey sentiment_by_model  \n",
       "0     500                 True               True  "
      ]
     },
     "execution_count": 19,
     "metadata": {},
     "output_type": "execute_result"
    }
   ],
   "source": [
    "# Copy sentiment_by_model column to survey_edited dataframe regarding the text column\n",
    "survey_edited['sentiment_by_model'] = transformed_tweets_sentiment['sentiment_by_model'].where(transformed_tweets_sentiment['text'].isin(survey_edited['text']))\n",
    "survey_edited.head(1)"
   ]
  },
  {
   "cell_type": "code",
   "execution_count": 20,
   "metadata": {},
   "outputs": [],
   "source": [
    "#Fill the NaN values of sentiment_by_model column with False\n",
    "survey_edited['sentiment_by_model'].fillna(False, inplace=True)"
   ]
  },
  {
   "cell_type": "code",
   "execution_count": 21,
   "metadata": {},
   "outputs": [
    {
     "data": {
      "text/plain": [
       "0     @TLRailUK why don't the doors open at every st...\n",
       "6     @soran1 @TLRailUK Drivers are not in charge of...\n",
       "16    We are delighted to announce our newest partne...\n",
       "18    @TLRailUK The 0847 from Denmark hill to Blackf...\n",
       "22    @TLRailUK 0930 at ECR (on late 0807 BTN to LBG...\n",
       "24    @CinqueBrowne @TLRailUK Traksy, opentraintimes...\n",
       "25    @charliebrief @TLRailUK Hi. I drive these trai...\n",
       "32    #Southern Delays of up to ten minutes and some...\n",
       "36    @TLRailUK Unfortunately not as i am now home. ...\n",
       "42    @xeepo @TLRailUK @TLRailUK Last month, and man...\n",
       "47    @TLRailUK @NorthHertsSam @hitchincommuter @Ste...\n",
       "50    @guy1logic @TLRailUK @mikecurtisg Station staf...\n",
       "61    @TLRailUK hi there - I've had a proper â€œblok...\n",
       "65    @TLRailUK hello I live next to Blackfriars. Yo...\n",
       "66    As his 70th #birthday approaches, #Borehamwood...\n",
       "73    0821 Thameslink train to Cambridge: Delayed 08...\n",
       "74    @TLRailUK Streatham. I have now gone to Blackf...\n",
       "82    @TLRailUK just heard an announcement at BUG ab...\n",
       "83    Commuting public: \"hurrah, the school holidays...\n",
       "89    @TLRailUK is the WiFi only available in 1st cl...\n",
       "93    1606 LNER train to Newark North Gate: Delayed ...\n",
       "94    @TLRailUK @SouthernRailUK Carried on to East C...\n",
       "96    1012 Thameslink train to Cambridge: Delayed - ...\n",
       "Name: text, dtype: object"
      ]
     },
     "execution_count": 21,
     "metadata": {},
     "output_type": "execute_result"
    }
   ],
   "source": [
    "#Print text column of transformed_tweets_sentiment\n",
    "transformed_tweets_sentiment['text']"
   ]
  },
  {
   "cell_type": "code",
   "execution_count": 22,
   "metadata": {},
   "outputs": [
    {
     "data": {
      "text/html": [
       "<div>\n",
       "<style scoped>\n",
       "    .dataframe tbody tr th:only-of-type {\n",
       "        vertical-align: middle;\n",
       "    }\n",
       "\n",
       "    .dataframe tbody tr th {\n",
       "        vertical-align: top;\n",
       "    }\n",
       "\n",
       "    .dataframe thead th {\n",
       "        text-align: right;\n",
       "    }\n",
       "</style>\n",
       "<table border=\"1\" class=\"dataframe\">\n",
       "  <thead>\n",
       "    <tr style=\"text-align: right;\">\n",
       "      <th></th>\n",
       "      <th>text</th>\n",
       "      <th>Complaint number</th>\n",
       "      <th>non complaint number</th>\n",
       "      <th>uncertain number</th>\n",
       "      <th>Cem</th>\n",
       "      <th>ecem</th>\n",
       "      <th>Shinu J</th>\n",
       "      <th>Akshay</th>\n",
       "      <th>Erjon</th>\n",
       "      <th>pattern</th>\n",
       "      <th>sentiment_by_survey</th>\n",
       "      <th>sentiment_by_model</th>\n",
       "    </tr>\n",
       "  </thead>\n",
       "  <tbody>\n",
       "    <tr>\n",
       "      <th>0</th>\n",
       "      <td>@TLRailUK why don't the doors open at every st...</td>\n",
       "      <td>5</td>\n",
       "      <td>0</td>\n",
       "      <td>0</td>\n",
       "      <td>Doors</td>\n",
       "      <td>Doors</td>\n",
       "      <td>Doors</td>\n",
       "      <td>Door</td>\n",
       "      <td>doors</td>\n",
       "      <td>500</td>\n",
       "      <td>True</td>\n",
       "      <td>True</td>\n",
       "    </tr>\n",
       "  </tbody>\n",
       "</table>\n",
       "</div>"
      ],
      "text/plain": [
       "                                                text  Complaint number  \\\n",
       "0  @TLRailUK why don't the doors open at every st...                 5   \n",
       "\n",
       "   non complaint number  uncertain number    Cem   ecem Shinu J Akshay  Erjon  \\\n",
       "0                     0                 0  Doors  Doors   Doors   Door  doors   \n",
       "\n",
       "  pattern  sentiment_by_survey  sentiment_by_model  \n",
       "0     500                 True                True  "
      ]
     },
     "execution_count": 22,
     "metadata": {},
     "output_type": "execute_result"
    }
   ],
   "source": [
    "survey_edited.head(1)"
   ]
  },
  {
   "cell_type": "code",
   "execution_count": 23,
   "metadata": {},
   "outputs": [
    {
     "name": "stdout",
     "output_type": "stream",
     "text": [
      "Number of True values in the sentiment_by_survey column:  27\n"
     ]
    },
    {
     "data": {
      "text/plain": [
       "0      @TLRailUK why don't the doors open at every st...\n",
       "3      @TLRailUK what is going on with the 17:11 from...\n",
       "6      @soran1 @TLRailUK Drivers are not in charge of...\n",
       "18     @TLRailUK The 0847 from Denmark hill to Blackf...\n",
       "22     @TLRailUK 0930 at ECR (on late 0807 BTN to LBG...\n",
       "25     @charliebrief @TLRailUK Hi. I drive these trai...\n",
       "36     @TLRailUK Unfortunately not as i am now home. ...\n",
       "42     @xeepo @TLRailUK @TLRailUK Last month, and man...\n",
       "45     for nothing! @TLRailUK No paper in the toilet ...\n",
       "46     What a total joke on starting my hen do @LNER ...\n",
       "49     @TLRailUK hi can you end the disruption to my ...\n",
       "50     @guy1logic @TLRailUK @mikecurtisg Station staf...\n",
       "52     Delightful @TLRailUK train this morning - fill...\n",
       "53     Oh great, looks like @TLRailUK on-train WiFi d...\n",
       "56     @TLRailUK Not according to everyone on the pla...\n",
       "58     @TLRailUK Not according to everyone on the pla...\n",
       "63     Also, on a crappy cattle-truck Thameslink trai...\n",
       "65     @TLRailUK hello I live next to Blackfriars. Yo...\n",
       "74     @TLRailUK Streatham. I have now gone to Blackf...\n",
       "80     The seats on @TLRailUK are made to give you ba...\n",
       "82     @TLRailUK just heard an announcement at BUG ab...\n",
       "83     Commuting public: \"hurrah, the school holidays...\n",
       "88     Taking the Biscuit?! Sweet treat apology from ...\n",
       "89     @TLRailUK is the WiFi only available in 1st cl...\n",
       "93     1606 LNER train to Newark North Gate: Delayed ...\n",
       "96     1012 Thameslink train to Cambridge: Delayed - ...\n",
       "98     @TLRailUK What's happening?? Driver hasn't giv...\n",
       "100    @TLRailUK You opened the doors 20 seconds afte...\n",
       "Name: text, dtype: object"
      ]
     },
     "execution_count": 23,
     "metadata": {},
     "output_type": "execute_result"
    }
   ],
   "source": [
    "# find the total number of True values in the sentiment_by_survey column\n",
    "number_of_true = survey_edited['sentiment_by_survey'].value_counts()[1]\n",
    "print(\"Number of True values in the sentiment_by_survey column: \", number_of_true)\n",
    "\n",
    "#Print text column of survey_edit where sentiment_by_survey is True\n",
    "survey_edited[survey_edited['sentiment_by_survey'] == True]['text']\n"
   ]
  },
  {
   "cell_type": "code",
   "execution_count": 24,
   "metadata": {},
   "outputs": [
    {
     "name": "stdout",
     "output_type": "stream",
     "text": [
      "True Positive:  15\n",
      "False Positive:  8\n",
      "True Negative:  19\n",
      "False Negative:  13\n"
     ]
    }
   ],
   "source": [
    "# Print TP, FP, TN, FN values\n",
    "TP = ((survey_edited['sentiment_by_survey'] == True) & (survey_edited['sentiment_by_model'] == True)).sum()\n",
    "FP = ((survey_edited['sentiment_by_survey'] == False) & (survey_edited['sentiment_by_model'] == True)).sum()\n",
    "TN = ((survey_edited['sentiment_by_survey'] == False) & (survey_edited['sentiment_by_model'] == False)).sum()\n",
    "FN = ((survey_edited['sentiment_by_survey'] == True) & (survey_edited['sentiment_by_model'] == False)).sum()\n",
    "\n",
    "print(\"True Positive: \", TP)\n",
    "print(\"False Positive: \", FP)\n",
    "print(\"True Negative: \", TN)\n",
    "print(\"False Negative: \", FN)"
   ]
  },
  {
   "cell_type": "code",
   "execution_count": 25,
   "metadata": {},
   "outputs": [
    {
     "name": "stdout",
     "output_type": "stream",
     "text": [
      "Precision: 0.6521739130434783\n",
      "Recall: 0.5357142857142857\n",
      "Specificity: 0.7037037037037037\n",
      "Accuracy: 0.6181818181818182\n",
      "F1 score: 0.5882352941176471\n"
     ]
    }
   ],
   "source": [
    "#Calculate precision, recall, specificity, accuracy and F1 score\n",
    "precision = TP / (TP + FP)\n",
    "recall = TP / (TP + FN)\n",
    "specificity = TN / (TN + FP)\n",
    "accuracy = (TP + TN) / (TP + FP + TN + FN)\n",
    "f1_score = 2 * precision * recall / (precision + recall)\n",
    "\n",
    "print(f'Precision: {precision}')\n",
    "print(f'Recall: {recall}')\n",
    "print(f'Specificity: {specificity}')\n",
    "print(f'Accuracy: {accuracy}')\n",
    "print(f'F1 score: {f1_score}')"
   ]
  },
  {
   "cell_type": "code",
   "execution_count": 26,
   "metadata": {},
   "outputs": [
    {
     "name": "stdout",
     "output_type": "stream",
     "text": [
      "Prevellence: 0.509090909090909\n"
     ]
    }
   ],
   "source": [
    "#Calculate Prevellence\n",
    "prevellence = (TP + FN) / (TP + FP + TN + FN)\n",
    "print(f'Prevellence: {prevellence}')"
   ]
  }
 ],
 "metadata": {
  "kernelspec": {
   "display_name": "base",
   "language": "python",
   "name": "python3"
  },
  "language_info": {
   "codemirror_mode": {
    "name": "ipython",
    "version": 3
   },
   "file_extension": ".py",
   "mimetype": "text/x-python",
   "name": "python",
   "nbconvert_exporter": "python",
   "pygments_lexer": "ipython3",
   "version": "3.10.9"
  }
 },
 "nbformat": 4,
 "nbformat_minor": 2
}

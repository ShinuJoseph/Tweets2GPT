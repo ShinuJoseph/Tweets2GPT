{
 "cells": [
  {
   "cell_type": "markdown",
   "metadata": {},
   "source": [
    "### **Import Libraries**"
   ]
  },
  {
   "cell_type": "code",
   "execution_count": 45,
   "metadata": {},
   "outputs": [],
   "source": [
    "# import libraries\n",
    "\n",
    "import pandas as pd\n",
    "import tweepy\n",
    "import json\n",
    "import tweetnlp\n",
    "import openai\n",
    "\n",
    "# import functions\n",
    "\n",
    "import sys\n",
    "sys.path.append('../Functions/')  # Adjust the relative path as needed\n",
    "\n",
    "from json_transform import get_all_keys, flatten_json"
   ]
  },
  {
   "cell_type": "markdown",
   "metadata": {},
   "source": [
    "### **Load and Transform the Data**"
   ]
  },
  {
   "cell_type": "code",
   "execution_count": 46,
   "metadata": {},
   "outputs": [],
   "source": [
    "''' \n",
    "The JSON data is nested, so we need to flatten it to be able to convert it to a DataFrame.\n",
    "We will use the get_all_keys() and flatten_json() functions from the json_transform.py file.\n",
    "After getting all the keys, we will convert them to a list and then flatten the JSON data.\n",
    "Convert the flattened data to a DataFrame and filter out the rows that contain \"update\" in the text column.\n",
    "'''\n",
    "\n",
    "with open(\"../../Data/Raw/tweets_ws23_v1.json\", \"r\") as file:\n",
    "        json_data = json.load(file)\n",
    "\n",
    "all_keys = get_all_keys(json_data)\n",
    "all_keys_list = list(all_keys)\n",
    "flattened_data = [flatten_json(entry) for entry in json_data]\n",
    "all_tweets = pd.DataFrame(flattened_data)\n",
    "\n",
    "# filter out the rows that contain \"update\" in the text column\n",
    "\n",
    "all_tweets = all_tweets[~all_tweets['text'].str.contains(\"update\")]\n",
    "number_total_tweets = all_tweets.shape[0]"
   ]
  },
  {
   "cell_type": "code",
   "execution_count": 47,
   "metadata": {},
   "outputs": [
    {
     "name": "stdout",
     "output_type": "stream",
     "text": [
      "Total number of tweets: 15824\n",
      "Total number of tweets after dropping duplicates: 14683\n"
     ]
    }
   ],
   "source": [
    "'''\n",
    "We will now drop the columns that we don't need and rename the columns that we will use.\n",
    "Then split the source_created_at column into date and time for easier analysis.\n",
    "Finally, we will drop the duplicated tweets.\n",
    "'''\n",
    "\n",
    "transformed_tweets = all_tweets[['text', 'author_id', 'source_created_at']].copy()\n",
    "print(f'Total number of tweets: {transformed_tweets.shape[0]}')\n",
    "\n",
    "transformed_tweets['date'] = transformed_tweets['source_created_at'].apply(lambda x: x.split(' ')[0])\n",
    "transformed_tweets['time'] = transformed_tweets['source_created_at'].apply(lambda x: x.split(' ')[1].split('.')[0])\n",
    "transformed_tweets.drop(['source_created_at'], axis=1, inplace=True)\n",
    "\n",
    "transformed_tweets = transformed_tweets.drop_duplicates(subset=['text'])\n",
    "\n",
    "print(f'Total number of tweets after dropping duplicates: {transformed_tweets.shape[0]}')"
   ]
  },
  {
   "cell_type": "code",
   "execution_count": 48,
   "metadata": {},
   "outputs": [],
   "source": [
    "'''Group the tweets by date and create a dictionary with the date as the key and the dataframe as the value.\n",
    "To access the dataframe for a specific date, use the date_dfs dictionary and the date as the key.\n",
    "Example: date_dfs['2021-05-01']'''\n",
    "\n",
    "grouped_tweets = transformed_tweets.groupby('date')\n",
    "date_dfs = {date: group for date, group in grouped_tweets}"
   ]
  },
  {
   "cell_type": "markdown",
   "metadata": {},
   "source": [
    "### **Filter the Data**"
   ]
  },
  {
   "cell_type": "code",
   "execution_count": 49,
   "metadata": {},
   "outputs": [
    {
     "name": "stdout",
     "output_type": "stream",
     "text": [
      "Date 2019-09-29 is valid and has 74 tweets.\n"
     ]
    }
   ],
   "source": [
    "selected_date = '2019-09-29'\n",
    "\n",
    "number_selected = date_dfs[selected_date].shape[0]\n",
    "\n",
    "# Check if the selected date is in the date_dfs dictionary\n",
    "if selected_date in date_dfs:\n",
    "    # You can now work with selected_df, which is the DataFrame for the selected date\n",
    "    print(f\"Date {selected_date} is valid and has {date_dfs[selected_date].shape[0]} tweets.\")\n",
    "else:\n",
    "    print(f\"Date {selected_date} is not available in the data.\")"
   ]
  },
  {
   "cell_type": "code",
   "execution_count": 50,
   "metadata": {},
   "outputs": [
    {
     "name": "stdout",
     "output_type": "stream",
     "text": [
      "Number of tweets after filtering out the word \"delay\": 24\n"
     ]
    }
   ],
   "source": [
    "# filter out the tweets that contain the word \"delay\"\n",
    "df_filter_delay = date_dfs[selected_date][~date_dfs[selected_date]['text'].str.contains('delay', case=False, na=False)]\n",
    "number_delay_tweets = number_selected - df_filter_delay.shape[0]\n",
    "\n",
    "print(f'Number of tweets after filtering out the word \"delay\": {df_filter_delay.shape[0]}')"
   ]
  },
  {
   "cell_type": "code",
   "execution_count": 51,
   "metadata": {},
   "outputs": [
    {
     "name": "stdout",
     "output_type": "stream",
     "text": [
      "Number of ironic tweets: 5\n"
     ]
    }
   ],
   "source": [
    "# Check for irony in the tweets using the tweetnlp library and save the results in a new column\n",
    "\n",
    "model_irony = tweetnlp.load_model('irony')\n",
    "df_filter_irony = df_filter_delay.copy()\n",
    "df_filter_irony['irony'] = df_filter_irony['text'].apply(lambda x: model_irony.predict(x)['label'])\n",
    "\n",
    "irony_counts = df_filter_irony['irony'].value_counts()\n",
    "number_irony_tweets = irony_counts.loc['irony'] if 'irony' in irony_counts else 0\n",
    "\n",
    "print(f'Number of ironic tweets: {number_irony_tweets}')"
   ]
  },
  {
   "cell_type": "code",
   "execution_count": 52,
   "metadata": {},
   "outputs": [
    {
     "name": "stderr",
     "output_type": "stream",
     "text": [
      "Some weights of the model checkpoint at cardiffnlp/twitter-roberta-base-sentiment-latest were not used when initializing RobertaForSequenceClassification: ['roberta.pooler.dense.bias', 'roberta.pooler.dense.weight']\n",
      "- This IS expected if you are initializing RobertaForSequenceClassification from the checkpoint of a model trained on another task or with another architecture (e.g. initializing a BertForSequenceClassification model from a BertForPreTraining model).\n",
      "- This IS NOT expected if you are initializing RobertaForSequenceClassification from the checkpoint of a model that you expect to be exactly identical (initializing a BertForSequenceClassification model from a BertForSequenceClassification model).\n"
     ]
    },
    {
     "name": "stdout",
     "output_type": "stream",
     "text": [
      "Number of tweets to be fed to ChatGPT: 15\n"
     ]
    }
   ],
   "source": [
    "# Add a column with the sentiment of the tweet and filter out the tweets that are not negative.\n",
    "\n",
    "model = tweetnlp.load_model('sentiment')\n",
    "df_filter_sentiment = df_filter_irony.copy()\n",
    "\n",
    "df_filter_sentiment['sentiment'] = df_filter_sentiment['text'].apply(lambda x: model.predict(x)['label'])\n",
    "\n",
    "# filter out the tweets that are not negative and not ironic\n",
    "\n",
    "df_filter_sentiment = df_filter_sentiment[(df_filter_sentiment['irony'] == 'irony') | (df_filter_sentiment['sentiment'] == 'negative')]\n",
    "\n",
    "number_complaints = df_filter_sentiment.shape[0]\n",
    "print(f'Number of tweets to be fed to ChatGPT: {number_complaints}')"
   ]
  },
  {
   "cell_type": "markdown",
   "metadata": {},
   "source": [
    "### **Prepare Data for LLM**"
   ]
  },
  {
   "cell_type": "code",
   "execution_count": 53,
   "metadata": {},
   "outputs": [],
   "source": [
    "day_tweets = df_filter_sentiment[['text', 'date', 'irony']].reset_index(drop=True)"
   ]
  },
  {
   "cell_type": "markdown",
   "metadata": {},
   "source": [
    "### **LLM Analysis**"
   ]
  },
  {
   "cell_type": "code",
   "execution_count": 54,
   "metadata": {},
   "outputs": [],
   "source": [
    "from keys import OPENAI_API_KEY\n",
    "\n",
    "OPENAI_API_KEY = OPENAI_API_KEY"
   ]
  },
  {
   "cell_type": "code",
   "execution_count": 71,
   "metadata": {},
   "outputs": [
    {
     "name": "stdout",
     "output_type": "stream",
     "text": [
      "- Date Created: 2019-09-29\n",
      "- Topic: Staff Conduct and Service\n",
      "- Count of complaints for this topic: 3\n",
      "- Summary: Passengers complained about lack of information from the staff, unapologetic announcements, and a driver not opening the doors at the right station.\n",
      "- Suggestion: Provide comprehensive and timely information to passengers, deliver announcements with empathy, and ensure proper coordination between staff members to avoid such incidents.\n",
      "\n",
      "- Date Created: 2019-09-29\n",
      "- Topic: Train Conditions\n",
      "- Count of complaints for this topic: 1\n",
      "- Summary: Passengers expressed dissatisfaction with the temperature inside the train and being left without a functioning toilet for over an hour.\n",
      "- Suggestion: Ensure that the train maintains a comfortable temperature and promptly address any issues with onboard facilities to improve passenger experience.\n",
      "\n",
      "- Date Created: 2019-09-29\n",
      "- Topic: Communication and Information\n",
      "- Count of complaints for this topic: 4\n",
      "- Summary: Passengers highlighted inadequate communication, lack of announcements, and confusion caused by contradictory information.\n",
      "- Suggestion: Enhance communication channels, provide accurate and consistent information, and ensure that staff members are well-informed to prevent confusion among passengers.\n",
      "\n",
      "- Date Created: 2019-09-29\n",
      "- Topic: Safety and Security\n",
      "- Count of complaints for this topic: 1\n",
      "- Summary: A passenger reported being stranded on a train with no announcement or clear direction from the train driver, causing concern about safety and security.\n",
      "- Suggestion: Ensure that clear, timely, and accurate safety information is communicated to passengers to address any concerns and prevent potential safety issues.\n",
      "\n",
      "- Date Created: 2019-09-29\n",
      "- Topic: Accessibility\n",
      "- Count of complaints for this topic: 1\n",
      "- Summary: A passenger expressed frustration regarding the accessibility of the train and the lack of convenience caused by the delay.\n",
      "- Suggestion: Ensure that trains are accessible and make arrangements to minimize inconvenience for passengers, especially those with specific needs.\n",
      "\n",
      "- Date Created: 2019-09-29\n",
      "- Topic: Other\n",
      "- Count of complaints for this topic: 2\n",
      "- Summary: Complaints such as the inconvenience caused by the cancellation of a train without prior warning, and the lack of clarity in the announcement causing confusion among passengers.\n",
      "- Suggestion: Address specific issues related to the cancellation of services and ensure that announcements are clear and unambiguous to avoid confusion among passengers.\n"
     ]
    }
   ],
   "source": [
    "# Constructing the prompt for OpenAI\n",
    "prompt = \"\"\"\n",
    "As a senior train maintenance official, I am consolidating passenger complaints for efficient resolution. \n",
    "Below are various tweets from train passengers. \n",
    "As our customer's opinion is very important to us, analyze each message. \n",
    "Categorize each message as a complaint or not a complaint.\n",
    "Complaints should be further categorized by one of these topics: Train Conditions, Staff Conduct and Service, Station Facilities, Safety and Security, Onboard Amenities, Communication and Information, Accessibility, Other.\n",
    "When the category is 'Other', please write what the complaint is about.\n",
    "If there is no complaint for a certain category, ignore that category.\n",
    "Please note that some tweets are marked with 'irony'. Pay special attention to these and interpret them carefully.\n",
    "Ignore the tweets that are not complaints.\n",
    "\n",
    "Complaints:\n",
    "\"\"\"\n",
    "\n",
    "complaint_summary = day_tweets.groupby(['text', 'date', 'irony']).size().reset_index(name='count')\n",
    "\n",
    "for index, row in complaint_summary.iterrows():\n",
    "    irony_tag = \"Irony\" if row['irony'] == 'irony' else \"Non-Irony\"\n",
    "    prompt += f\"- Date Created: {row['date']} - Complaint: {row['text']} - {irony_tag} (Count: {row['count']})\\n\"\n",
    "\n",
    "prompt += \"\"\"\n",
    "For each complaint, provide the response in a structured format. Each element should be on a separate line with no additional spaces or lines in between:\n",
    "- Date Created:\n",
    "- Topic:\n",
    "- Count of complaints for this topic:\n",
    "- Summary:\n",
    "- Suggestion:\n",
    "Please maintain this format consistently throughout your response. Note: Even if the topic is \"Other\", count of complaints for this topic\n",
    "\"\"\"\n",
    "\n",
    "# Set up OpenAI API key\n",
    "openai.api_key = OPENAI_API_KEY\n",
    "\n",
    "# Generate response from OpenAI\n",
    "response = openai.ChatCompletion.create(\n",
    "    model=\"gpt-3.5-turbo-1106\",  # Replace with the appropriate chat model\n",
    "    seed=42,\n",
    "    messages=[\n",
    "        {\"role\": \"system\", \"content\": \"You are a senior train maintenance official.\"},\n",
    "        {\"role\": \"user\", \"content\": prompt}\n",
    "    ]\n",
    ")\n",
    "\n",
    "# Print the response\n",
    "print(response.choices[0].message[\"content\"])\n",
    "data = response.choices[0].message[\"content\"]"
   ]
  },
  {
   "cell_type": "code",
   "execution_count": 72,
   "metadata": {},
   "outputs": [
    {
     "data": {
      "text/html": [
       "<div>\n",
       "<style scoped>\n",
       "    .dataframe tbody tr th:only-of-type {\n",
       "        vertical-align: middle;\n",
       "    }\n",
       "\n",
       "    .dataframe tbody tr th {\n",
       "        vertical-align: top;\n",
       "    }\n",
       "\n",
       "    .dataframe thead th {\n",
       "        text-align: right;\n",
       "    }\n",
       "</style>\n",
       "<table border=\"1\" class=\"dataframe\">\n",
       "  <thead>\n",
       "    <tr style=\"text-align: right;\">\n",
       "      <th></th>\n",
       "      <th>Date of Complaint</th>\n",
       "      <th>Topic</th>\n",
       "      <th>Count</th>\n",
       "      <th>Summary</th>\n",
       "      <th>Suggestion</th>\n",
       "    </tr>\n",
       "  </thead>\n",
       "  <tbody>\n",
       "    <tr>\n",
       "      <th>0</th>\n",
       "      <td>2019-09-29</td>\n",
       "      <td>Staff Conduct and Service</td>\n",
       "      <td>3</td>\n",
       "      <td>Passengers complained about lack of informatio...</td>\n",
       "      <td>Provide comprehensive and timely information t...</td>\n",
       "    </tr>\n",
       "    <tr>\n",
       "      <th>1</th>\n",
       "      <td>2019-09-29</td>\n",
       "      <td>Train Conditions</td>\n",
       "      <td>1</td>\n",
       "      <td>Passengers expressed dissatisfaction with the ...</td>\n",
       "      <td>Ensure that the train maintains a comfortable ...</td>\n",
       "    </tr>\n",
       "    <tr>\n",
       "      <th>2</th>\n",
       "      <td>2019-09-29</td>\n",
       "      <td>Communication and Information</td>\n",
       "      <td>4</td>\n",
       "      <td>Passengers highlighted inadequate communicatio...</td>\n",
       "      <td>Enhance communication channels, provide accura...</td>\n",
       "    </tr>\n",
       "    <tr>\n",
       "      <th>3</th>\n",
       "      <td>2019-09-29</td>\n",
       "      <td>Safety and Security</td>\n",
       "      <td>1</td>\n",
       "      <td>A passenger reported being stranded on a train...</td>\n",
       "      <td>Ensure that clear, timely, and accurate safety...</td>\n",
       "    </tr>\n",
       "    <tr>\n",
       "      <th>4</th>\n",
       "      <td>2019-09-29</td>\n",
       "      <td>Accessibility</td>\n",
       "      <td>1</td>\n",
       "      <td>A passenger expressed frustration regarding th...</td>\n",
       "      <td>Ensure that trains are accessible and make arr...</td>\n",
       "    </tr>\n",
       "    <tr>\n",
       "      <th>5</th>\n",
       "      <td>2019-09-29</td>\n",
       "      <td>Other</td>\n",
       "      <td>2</td>\n",
       "      <td>Complaints such as the inconvenience caused by...</td>\n",
       "      <td>Address specific issues related to the cancell...</td>\n",
       "    </tr>\n",
       "  </tbody>\n",
       "</table>\n",
       "</div>"
      ],
      "text/plain": [
       "  Date of Complaint                          Topic  Count  \\\n",
       "0        2019-09-29      Staff Conduct and Service      3   \n",
       "1        2019-09-29               Train Conditions      1   \n",
       "2        2019-09-29  Communication and Information      4   \n",
       "3        2019-09-29            Safety and Security      1   \n",
       "4        2019-09-29                  Accessibility      1   \n",
       "5        2019-09-29                          Other      2   \n",
       "\n",
       "                                             Summary  \\\n",
       "0  Passengers complained about lack of informatio...   \n",
       "1  Passengers expressed dissatisfaction with the ...   \n",
       "2  Passengers highlighted inadequate communicatio...   \n",
       "3  A passenger reported being stranded on a train...   \n",
       "4  A passenger expressed frustration regarding th...   \n",
       "5  Complaints such as the inconvenience caused by...   \n",
       "\n",
       "                                          Suggestion  \n",
       "0  Provide comprehensive and timely information t...  \n",
       "1  Ensure that the train maintains a comfortable ...  \n",
       "2  Enhance communication channels, provide accura...  \n",
       "3  Ensure that clear, timely, and accurate safety...  \n",
       "4  Ensure that trains are accessible and make arr...  \n",
       "5  Address specific issues related to the cancell...  "
      ]
     },
     "execution_count": 72,
     "metadata": {},
     "output_type": "execute_result"
    }
   ],
   "source": [
    "# Split the data into separate entries\n",
    "entries = data.strip().split(\"- Date Created:\")\n",
    "\n",
    "# Initialize lists to hold the data\n",
    "dates = []\n",
    "topics = []\n",
    "counts = []\n",
    "summaries = []\n",
    "suggestions = []\n",
    "\n",
    "# Process each entry\n",
    "for entry in entries:\n",
    "    if entry:  # skip empty strings\n",
    "        lines = entry.strip().split(\"\\n- \")\n",
    "        date, topic, count, summary, suggestion = lines\n",
    "        dates.append(date.replace(\"Date Created: \", \"\").strip())\n",
    "        topics.append(topic.replace(\"Topic: \", \"\").strip())\n",
    "        counts.append(int(count.split(\": \")[1]))\n",
    "        summaries.append(summary.replace(\"Summary: \", \"\").strip())\n",
    "        suggestions.append(suggestion.replace(\"Suggestion: \", \"\").strip())\n",
    "\n",
    "# Create a DataFrame\n",
    "df = pd.DataFrame({\n",
    "    'Date of Complaint': dates,\n",
    "    'Topic': topics,\n",
    "    'Count': counts,\n",
    "    'Summary': summaries,\n",
    "    'Suggestion': suggestions\n",
    "})\n",
    "\n",
    "df  # To display the first few rows of the DataFrame"
   ]
  },
  {
   "cell_type": "code",
   "execution_count": 73,
   "metadata": {},
   "outputs": [
    {
     "data": {
      "text/html": [
       "<div>\n",
       "<style scoped>\n",
       "    .dataframe tbody tr th:only-of-type {\n",
       "        vertical-align: middle;\n",
       "    }\n",
       "\n",
       "    .dataframe tbody tr th {\n",
       "        vertical-align: top;\n",
       "    }\n",
       "\n",
       "    .dataframe thead th {\n",
       "        text-align: right;\n",
       "    }\n",
       "</style>\n",
       "<table border=\"1\" class=\"dataframe\">\n",
       "  <thead>\n",
       "    <tr style=\"text-align: right;\">\n",
       "      <th></th>\n",
       "      <th>Date</th>\n",
       "      <th>Total_Tweets</th>\n",
       "      <th>Delay_Tweets</th>\n",
       "      <th>Ironic_Tweets</th>\n",
       "      <th>Tweets2ChatGPT</th>\n",
       "    </tr>\n",
       "  </thead>\n",
       "  <tbody>\n",
       "    <tr>\n",
       "      <th>0</th>\n",
       "      <td>2019-09-29</td>\n",
       "      <td>74</td>\n",
       "      <td>50</td>\n",
       "      <td>5</td>\n",
       "      <td>15</td>\n",
       "    </tr>\n",
       "  </tbody>\n",
       "</table>\n",
       "</div>"
      ],
      "text/plain": [
       "         Date  Total_Tweets  Delay_Tweets  Ironic_Tweets  Tweets2ChatGPT\n",
       "0  2019-09-29            74            50              5              15"
      ]
     },
     "execution_count": 73,
     "metadata": {},
     "output_type": "execute_result"
    }
   ],
   "source": [
    "# create a summary dataframe with number_selected, number_delay_tweets, number_irony_tweets, number_complaints\n",
    "\n",
    "summary_df = pd.DataFrame({'Date': selected_date, 'Total_Tweets': number_selected, 'Delay_Tweets': number_delay_tweets, 'Ironic_Tweets': number_irony_tweets, 'Tweets2ChatGPT': number_complaints}, index=[0])\n",
    "summary_df"
   ]
  },
  {
   "cell_type": "code",
   "execution_count": 74,
   "metadata": {},
   "outputs": [],
   "source": [
    "# export the dataframes to csv files\n",
    "\n",
    "df.to_csv(f'../../Data/Processed/Sprint8 - ouput - Erjon.csv', index=False)\n",
    "summary_df.to_csv(f'../../Data/Processed/Sprint8 - summary - Erjon.csv', index=False)"
   ]
  }
 ],
 "metadata": {
  "kernelspec": {
   "display_name": "venv",
   "language": "python",
   "name": "python3"
  },
  "language_info": {
   "codemirror_mode": {
    "name": "ipython",
    "version": 3
   },
   "file_extension": ".py",
   "mimetype": "text/x-python",
   "name": "python",
   "nbconvert_exporter": "python",
   "pygments_lexer": "ipython3",
   "version": "3.9.7"
  }
 },
 "nbformat": 4,
 "nbformat_minor": 2
}

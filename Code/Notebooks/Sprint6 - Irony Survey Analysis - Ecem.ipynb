{
 "cells": [
  {
   "cell_type": "code",
   "execution_count": 2,
   "metadata": {},
   "outputs": [
    {
     "name": "stderr",
     "output_type": "stream",
     "text": [
      "2023-11-28 03:39:52,914\tINFO util.py:159 -- Outdated packages:\n",
      "  ipywidgets==7.6.5 found, needs ipywidgets>=8\n",
      "Run `pip install -U ipywidgets`, then restart the notebook server for rich notebook output.\n",
      "2023-11-28 03:39:53,061\tINFO util.py:159 -- Outdated packages:\n",
      "  ipywidgets==7.6.5 found, needs ipywidgets>=8\n",
      "Run `pip install -U ipywidgets`, then restart the notebook server for rich notebook output.\n"
     ]
    }
   ],
   "source": [
    "# import libraries\n",
    "\n",
    "import pandas as pd\n",
    "import numpy as np\n",
    "import matplotlib.pyplot as plt\n",
    "import tweepy\n",
    "import json\n",
    "import tweetnlp\n",
    "import openai"
   ]
  },
  {
   "cell_type": "code",
   "execution_count": 3,
   "metadata": {},
   "outputs": [],
   "source": [
    "# import functions\n",
    "import sys\n",
    "sys.path.append('../Functions/')  # Adjust the relative path as needed\n",
    "\n",
    "# from json_transform import get_all_keys, flatten_json"
   ]
  },
  {
   "cell_type": "code",
   "execution_count": 4,
   "metadata": {},
   "outputs": [],
   "source": [
    "''' \n",
    "The JSON data is nested, so we need to flatten it to be able to convert it to a DataFrame.\n",
    "We will use the get_all_keys() and flatten_json() functions from the json_transform.py file.\n",
    "After getting all the keys, we will convert them to a list and then flatten the JSON data.\n",
    "Convert the flattened data to a DataFrame and filter out the rows that contain \"update\" in the text column.\n",
    "'''\n",
    "all_tweets = pd.read_csv(\"../../Data/Processed/Sprint6 - survey_irony - Ecem.csv\")"
   ]
  },
  {
   "cell_type": "code",
   "execution_count": 5,
   "metadata": {},
   "outputs": [
    {
     "data": {
      "text/html": [
       "<div>\n",
       "<style scoped>\n",
       "    .dataframe tbody tr th:only-of-type {\n",
       "        vertical-align: middle;\n",
       "    }\n",
       "\n",
       "    .dataframe tbody tr th {\n",
       "        vertical-align: top;\n",
       "    }\n",
       "\n",
       "    .dataframe thead th {\n",
       "        text-align: right;\n",
       "    }\n",
       "</style>\n",
       "<table border=\"1\" class=\"dataframe\">\n",
       "  <thead>\n",
       "    <tr style=\"text-align: right;\">\n",
       "      <th></th>\n",
       "      <th>Timestamp</th>\n",
       "      <th>What is your name?</th>\n",
       "      <th>@TLRailUK why don't the doors open at every station to save us folk having to touch the button?!</th>\n",
       "      <th>@TLRailUK When on phone to @LNER they said as it was cancelled they've also cancelled ticket and issued refund so now no ticket. That shows on time but all trains going via Croydon before reaching Stevenage so looks like all will be delayed/cancelled</th>\n",
       "      <th>@LiveCommute @bus131 @tlupdates @TLRailUK @brighton_line They are monopolies which go unregulated regarding genuine customer experience, hence three hour train journeys without tables, trays, heating, luggage racks even though they service two of Europes busiest airports. It's a failed industry.</th>\n",
       "      <th>@TLRailUK what is going on with the 17:11 from BFR to PLU? We've been on the train for the best part of an hour and are still stuck outside Deptford? Delay repay? Will it ever get to PLU?</th>\n",
       "      <th>@NetworkRailSE @SouthernRailUK #TLUpdates - Thameslink services may be subject to further delay on between London &amp; Bedford and London &amp; Cambridge as a knock on effect of this issue. Full details, including service updates, live departures &amp; ticket acceptance â„¹ï¸�ðŸ‘‡ https://t.co/iYMraBkjSy</th>\n",
       "      <th>@ClaireTierney5 The 1611 was diverted between East Croydon and Blackfriars not calling at London Bridge, but Thameslink didn't bother to update the data so Customer Information Screens and Journey Planers didn't show the alteration.</th>\n",
       "      <th>@soran1 @TLRailUK Drivers are not in charge of heating or AC on class 700 trains. It's set by the owner-maker at their depots</th>\n",
       "      <th>@TLRailUK I hear the managers are staying at the St pancras hotel because of concerns of their trains being cancelled or delayed making them late ðŸ˜‚ðŸ˜‚ðŸ˜‚</th>\n",
       "      <th>...</th>\n",
       "      <th>@TLRailUK why are trains cancelled or delayed from Bedford? Nothing on your twitter feed about any problems?</th>\n",
       "      <th>Unnamed: 96</th>\n",
       "      <th>1606 LNER train to Newark North Gate: Delayed 1627 Grand Central train to Bradford Interchange: On time - plat 10 1628 Thameslink train to Cambridge: On time 1633 LNER train to Leeds: On time - plat 1 1630 LNER train to Edinburgh: expected 1635</th>\n",
       "      <th>@TLRailUK @SouthernRailUK Carried on to East Croydon where I'm waiting for service to st pancras</th>\n",
       "      <th>1949 Thameslink train to Brighton: Delayed - plat 1 1840 EMR train to Nottingham: expected 2002 - plat 4 2005 Thameslink train to Gatwick Airport: Delayed - plat 3 1940 EMR train to Nottingham: expected 2008 - plat 4</th>\n",
       "      <th>1012 Thameslink train to Cambridge: Delayed - plat 7 1038 Great Northern train to Moorgate: On time - plat 1 1039 Great Northern train to Hertford North: Cancelled 1022 Thameslink train to Brighton: expected 1042 - plat 2 1043 Great Northern train to Moorgate: Cancelled</th>\n",
       "      <th>TRAVEL: 15 minute delays on @SouthernRailUK @TLRailUK at #Redhill due to a points failure</th>\n",
       "      <th>@TLRailUK What's happening?? Driver hasn't given an announcement in 20 mins - doors are locked and meanwhile trains are going past we could get on</th>\n",
       "      <th>Evening @tlrailuk - you cancel the 1724 ZFD to HHE due to no staff and the 1724 following service is overcrowded with no guard (we had one this morning) to tell that air con is broken - carriage 412114 - rear carriage going south.</th>\n",
       "      <th>@TLRailUK You opened the doors 20 seconds after a train on the parallel platform pulled away. That is absolutely terrible service.</th>\n",
       "    </tr>\n",
       "  </thead>\n",
       "  <tbody>\n",
       "    <tr>\n",
       "      <th>0</th>\n",
       "      <td>2023/11/25 12:52:01 PM GMT+1</td>\n",
       "      <td>Erjon</td>\n",
       "      <td>No, it is not ironic</td>\n",
       "      <td>No, it is not ironic</td>\n",
       "      <td>No, it is not ironic</td>\n",
       "      <td>No, it is not ironic</td>\n",
       "      <td>No, it is not ironic</td>\n",
       "      <td>No, it is not ironic</td>\n",
       "      <td>No, it is not ironic</td>\n",
       "      <td>No, it is not ironic</td>\n",
       "      <td>...</td>\n",
       "      <td>No, it is not ironic</td>\n",
       "      <td>NaN</td>\n",
       "      <td>No, it is not ironic</td>\n",
       "      <td>No, it is not ironic</td>\n",
       "      <td>No, it is not ironic</td>\n",
       "      <td>No, it is not ironic</td>\n",
       "      <td>No, it is not ironic</td>\n",
       "      <td>No, it is not ironic</td>\n",
       "      <td>No, it is not ironic</td>\n",
       "      <td>No, it is not ironic</td>\n",
       "    </tr>\n",
       "    <tr>\n",
       "      <th>1</th>\n",
       "      <td>2023/11/25 1:54:46 PM GMT+1</td>\n",
       "      <td>Ecem</td>\n",
       "      <td>No, it is not ironic</td>\n",
       "      <td>No, it is not ironic</td>\n",
       "      <td>No, it is not ironic</td>\n",
       "      <td>No, it is not ironic</td>\n",
       "      <td>No, it is not ironic</td>\n",
       "      <td>No, it is not ironic</td>\n",
       "      <td>No, it is not ironic</td>\n",
       "      <td>No, it is not ironic</td>\n",
       "      <td>...</td>\n",
       "      <td>No, it is not ironic</td>\n",
       "      <td>I am trying my best.</td>\n",
       "      <td>No, it is not ironic</td>\n",
       "      <td>No, it is not ironic</td>\n",
       "      <td>No, it is not ironic</td>\n",
       "      <td>No, it is not ironic</td>\n",
       "      <td>No, it is not ironic</td>\n",
       "      <td>No, it is not ironic</td>\n",
       "      <td>No, it is not ironic</td>\n",
       "      <td>No, it is not ironic</td>\n",
       "    </tr>\n",
       "    <tr>\n",
       "      <th>2</th>\n",
       "      <td>2023/11/25 2:47:53 PM GMT+1</td>\n",
       "      <td>Cem</td>\n",
       "      <td>No, it is not ironic</td>\n",
       "      <td>No, it is not ironic</td>\n",
       "      <td>No, it is not ironic</td>\n",
       "      <td>No, it is not ironic</td>\n",
       "      <td>No, it is not ironic</td>\n",
       "      <td>No, it is not ironic</td>\n",
       "      <td>No, it is not ironic</td>\n",
       "      <td>No, it is not ironic</td>\n",
       "      <td>...</td>\n",
       "      <td>No, it is not ironic</td>\n",
       "      <td>I am trying my best.</td>\n",
       "      <td>No, it is not ironic</td>\n",
       "      <td>No, it is not ironic</td>\n",
       "      <td>No, it is not ironic</td>\n",
       "      <td>No, it is not ironic</td>\n",
       "      <td>No, it is not ironic</td>\n",
       "      <td>No, it is not ironic</td>\n",
       "      <td>No, it is not ironic</td>\n",
       "      <td>No, it is not ironic</td>\n",
       "    </tr>\n",
       "    <tr>\n",
       "      <th>3</th>\n",
       "      <td>2023/11/25 8:31:58 PM GMT+1</td>\n",
       "      <td>Akshay</td>\n",
       "      <td>No, it is not ironic</td>\n",
       "      <td>No, it is not ironic</td>\n",
       "      <td>No, it is not ironic</td>\n",
       "      <td>No, it is not ironic</td>\n",
       "      <td>No, it is not ironic</td>\n",
       "      <td>No, it is not ironic</td>\n",
       "      <td>No, it is not ironic</td>\n",
       "      <td>No, it is not ironic</td>\n",
       "      <td>...</td>\n",
       "      <td>No, it is not ironic</td>\n",
       "      <td>I am trying my best.</td>\n",
       "      <td>No, it is not ironic</td>\n",
       "      <td>No, it is not ironic</td>\n",
       "      <td>No, it is not ironic</td>\n",
       "      <td>No, it is not ironic</td>\n",
       "      <td>No, it is not ironic</td>\n",
       "      <td>No, it is not ironic</td>\n",
       "      <td>No, it is not ironic</td>\n",
       "      <td>No, it is not ironic</td>\n",
       "    </tr>\n",
       "    <tr>\n",
       "      <th>4</th>\n",
       "      <td>2023/11/25 10:51:11 PM GMT+1</td>\n",
       "      <td>Shinu</td>\n",
       "      <td>No, it is not ironic</td>\n",
       "      <td>No, it is not ironic</td>\n",
       "      <td>No, it is not ironic</td>\n",
       "      <td>No, it is not ironic</td>\n",
       "      <td>No, it is not ironic</td>\n",
       "      <td>No, it is not ironic</td>\n",
       "      <td>No, it is not ironic</td>\n",
       "      <td>No, it is not ironic</td>\n",
       "      <td>...</td>\n",
       "      <td>No, it is not ironic</td>\n",
       "      <td>I am trying my best.</td>\n",
       "      <td>No, it is not ironic</td>\n",
       "      <td>No, it is not ironic</td>\n",
       "      <td>No, it is not ironic</td>\n",
       "      <td>No, it is not ironic</td>\n",
       "      <td>No, it is not ironic</td>\n",
       "      <td>No, it is not ironic</td>\n",
       "      <td>No, it is not ironic</td>\n",
       "      <td>No, it is not ironic</td>\n",
       "    </tr>\n",
       "  </tbody>\n",
       "</table>\n",
       "<p>5 rows × 105 columns</p>\n",
       "</div>"
      ],
      "text/plain": [
       "                      Timestamp What is your name?  \\\n",
       "0  2023/11/25 12:52:01 PM GMT+1              Erjon   \n",
       "1   2023/11/25 1:54:46 PM GMT+1               Ecem   \n",
       "2   2023/11/25 2:47:53 PM GMT+1                Cem   \n",
       "3   2023/11/25 8:31:58 PM GMT+1             Akshay   \n",
       "4  2023/11/25 10:51:11 PM GMT+1              Shinu   \n",
       "\n",
       "  @TLRailUK why don't the doors open at every station to save us folk having to touch the button?!  \\\n",
       "0                               No, it is not ironic                                                 \n",
       "1                               No, it is not ironic                                                 \n",
       "2                               No, it is not ironic                                                 \n",
       "3                               No, it is not ironic                                                 \n",
       "4                               No, it is not ironic                                                 \n",
       "\n",
       "  @TLRailUK When on phone to @LNER they said as it was cancelled they've also cancelled ticket and issued refund so now no ticket. That shows on time but all trains going via Croydon before reaching Stevenage so looks like all will be delayed/cancelled  \\\n",
       "0                               No, it is not ironic                                                                                                                                                                                                           \n",
       "1                               No, it is not ironic                                                                                                                                                                                                           \n",
       "2                               No, it is not ironic                                                                                                                                                                                                           \n",
       "3                               No, it is not ironic                                                                                                                                                                                                           \n",
       "4                               No, it is not ironic                                                                                                                                                                                                           \n",
       "\n",
       "  @LiveCommute @bus131 @tlupdates @TLRailUK @brighton_line They are monopolies which go unregulated regarding genuine customer experience, hence three hour train journeys without tables, trays, heating, luggage racks even though they service two of Europes busiest airports. It's a failed industry.  \\\n",
       "0                               No, it is not ironic                                                                                                                                                                                                                                                         \n",
       "1                               No, it is not ironic                                                                                                                                                                                                                                                         \n",
       "2                               No, it is not ironic                                                                                                                                                                                                                                                         \n",
       "3                               No, it is not ironic                                                                                                                                                                                                                                                         \n",
       "4                               No, it is not ironic                                                                                                                                                                                                                                                         \n",
       "\n",
       "  @TLRailUK what is going on with the 17:11 from BFR to PLU? We've been on the train for the best part of an hour and are still stuck outside Deptford? Delay repay? Will it ever get to PLU?  \\\n",
       "0                               No, it is not ironic                                                                                                                                            \n",
       "1                               No, it is not ironic                                                                                                                                            \n",
       "2                               No, it is not ironic                                                                                                                                            \n",
       "3                               No, it is not ironic                                                                                                                                            \n",
       "4                               No, it is not ironic                                                                                                                                            \n",
       "\n",
       "  @NetworkRailSE @SouthernRailUK #TLUpdates - Thameslink services may be subject to further delay on between London & Bedford and London & Cambridge as a knock on effect of this issue. Full details, including service updates, live departures & ticket acceptance â„¹ï¸�ðŸ‘‡ https://t.co/iYMraBkjSy  \\\n",
       "0                               No, it is not ironic                                                                                                                                                                                                                                                       \n",
       "1                               No, it is not ironic                                                                                                                                                                                                                                                       \n",
       "2                               No, it is not ironic                                                                                                                                                                                                                                                       \n",
       "3                               No, it is not ironic                                                                                                                                                                                                                                                       \n",
       "4                               No, it is not ironic                                                                                                                                                                                                                                                       \n",
       "\n",
       "  @ClaireTierney5 The 1611 was diverted between East Croydon and Blackfriars not calling at London Bridge, but Thameslink didn't bother to update the data so Customer Information Screens and Journey Planers didn't show the alteration.  \\\n",
       "0                               No, it is not ironic                                                                                                                                                                                         \n",
       "1                               No, it is not ironic                                                                                                                                                                                         \n",
       "2                               No, it is not ironic                                                                                                                                                                                         \n",
       "3                               No, it is not ironic                                                                                                                                                                                         \n",
       "4                               No, it is not ironic                                                                                                                                                                                         \n",
       "\n",
       "  @soran1 @TLRailUK Drivers are not in charge of heating or AC on class 700 trains. It's set by the owner-maker at their depots  \\\n",
       "0                               No, it is not ironic                                                                              \n",
       "1                               No, it is not ironic                                                                              \n",
       "2                               No, it is not ironic                                                                              \n",
       "3                               No, it is not ironic                                                                              \n",
       "4                               No, it is not ironic                                                                              \n",
       "\n",
       "  @TLRailUK I hear the managers are staying at the St pancras hotel because of concerns of their trains being cancelled or delayed making them late ðŸ˜‚ðŸ˜‚ðŸ˜‚  \\\n",
       "0                               No, it is not ironic                                                                                                               \n",
       "1                               No, it is not ironic                                                                                                               \n",
       "2                               No, it is not ironic                                                                                                               \n",
       "3                               No, it is not ironic                                                                                                               \n",
       "4                               No, it is not ironic                                                                                                               \n",
       "\n",
       "   ...  \\\n",
       "0  ...   \n",
       "1  ...   \n",
       "2  ...   \n",
       "3  ...   \n",
       "4  ...   \n",
       "\n",
       "  @TLRailUK why are trains cancelled or delayed from Bedford? Nothing on your twitter feed about any problems?  \\\n",
       "0                               No, it is not ironic                                                             \n",
       "1                               No, it is not ironic                                                             \n",
       "2                               No, it is not ironic                                                             \n",
       "3                               No, it is not ironic                                                             \n",
       "4                               No, it is not ironic                                                             \n",
       "\n",
       "            Unnamed: 96  \\\n",
       "0                   NaN   \n",
       "1  I am trying my best.   \n",
       "2  I am trying my best.   \n",
       "3  I am trying my best.   \n",
       "4  I am trying my best.   \n",
       "\n",
       "  1606 LNER train to Newark North Gate: Delayed 1627 Grand Central train to Bradford Interchange: On time - plat 10 1628 Thameslink train to Cambridge: On time 1633 LNER train to Leeds: On time - plat 1 1630 LNER train to Edinburgh: expected 1635  \\\n",
       "0                               No, it is not ironic                                                                                                                                                                                                     \n",
       "1                               No, it is not ironic                                                                                                                                                                                                     \n",
       "2                               No, it is not ironic                                                                                                                                                                                                     \n",
       "3                               No, it is not ironic                                                                                                                                                                                                     \n",
       "4                               No, it is not ironic                                                                                                                                                                                                     \n",
       "\n",
       "  @TLRailUK @SouthernRailUK Carried on to East Croydon where I'm waiting for service to st pancras  \\\n",
       "0                               No, it is not ironic                                                 \n",
       "1                               No, it is not ironic                                                 \n",
       "2                               No, it is not ironic                                                 \n",
       "3                               No, it is not ironic                                                 \n",
       "4                               No, it is not ironic                                                 \n",
       "\n",
       "  1949 Thameslink train to Brighton: Delayed - plat 1 1840 EMR train to Nottingham: expected 2002 - plat 4 2005 Thameslink train to Gatwick Airport: Delayed - plat 3 1940 EMR train to Nottingham: expected 2008 - plat 4  \\\n",
       "0                               No, it is not ironic                                                                                                                                                                         \n",
       "1                               No, it is not ironic                                                                                                                                                                         \n",
       "2                               No, it is not ironic                                                                                                                                                                         \n",
       "3                               No, it is not ironic                                                                                                                                                                         \n",
       "4                               No, it is not ironic                                                                                                                                                                         \n",
       "\n",
       "  1012 Thameslink train to Cambridge: Delayed - plat 7 1038 Great Northern train to Moorgate: On time - plat 1 1039 Great Northern train to Hertford North: Cancelled 1022 Thameslink train to Brighton: expected 1042 - plat 2 1043 Great Northern train to Moorgate: Cancelled  \\\n",
       "0                               No, it is not ironic                                                                                                                                                                                                                               \n",
       "1                               No, it is not ironic                                                                                                                                                                                                                               \n",
       "2                               No, it is not ironic                                                                                                                                                                                                                               \n",
       "3                               No, it is not ironic                                                                                                                                                                                                                               \n",
       "4                               No, it is not ironic                                                                                                                                                                                                                               \n",
       "\n",
       "  TRAVEL: 15 minute delays on @SouthernRailUK @TLRailUK at #Redhill due to a points failure  \\\n",
       "0                               No, it is not ironic                                          \n",
       "1                               No, it is not ironic                                          \n",
       "2                               No, it is not ironic                                          \n",
       "3                               No, it is not ironic                                          \n",
       "4                               No, it is not ironic                                          \n",
       "\n",
       "  @TLRailUK What's happening?? Driver hasn't given an announcement in 20 mins - doors are locked and meanwhile trains are going past we could get on  \\\n",
       "0                               No, it is not ironic                                                                                                   \n",
       "1                               No, it is not ironic                                                                                                   \n",
       "2                               No, it is not ironic                                                                                                   \n",
       "3                               No, it is not ironic                                                                                                   \n",
       "4                               No, it is not ironic                                                                                                   \n",
       "\n",
       "  Evening @tlrailuk - you cancel the 1724 ZFD to HHE due to no staff and the 1724 following service is overcrowded with no guard (we had one this morning) to tell that air con is broken - carriage 412114 - rear carriage going south.  \\\n",
       "0                               No, it is not ironic                                                                                                                                                                                       \n",
       "1                               No, it is not ironic                                                                                                                                                                                       \n",
       "2                               No, it is not ironic                                                                                                                                                                                       \n",
       "3                               No, it is not ironic                                                                                                                                                                                       \n",
       "4                               No, it is not ironic                                                                                                                                                                                       \n",
       "\n",
       "  @TLRailUK You opened the doors 20 seconds after a train on the parallel platform pulled away. That is absolutely terrible service.  \n",
       "0                               No, it is not ironic                                                                                  \n",
       "1                               No, it is not ironic                                                                                  \n",
       "2                               No, it is not ironic                                                                                  \n",
       "3                               No, it is not ironic                                                                                  \n",
       "4                               No, it is not ironic                                                                                  \n",
       "\n",
       "[5 rows x 105 columns]"
      ]
     },
     "execution_count": 5,
     "metadata": {},
     "output_type": "execute_result"
    }
   ],
   "source": [
    "all_tweets.head(5)"
   ]
  },
  {
   "cell_type": "code",
   "execution_count": 6,
   "metadata": {},
   "outputs": [
    {
     "name": "stdout",
     "output_type": "stream",
     "text": [
      "Column indices with the string: Index(['Unnamed: 96'], dtype='object')\n"
     ]
    }
   ],
   "source": [
    "# Assuming survey_irony is your DataFrame\n",
    "string_to_find = 'I am trying my best'\n",
    "\n",
    "# Check if the string is present in any cell of the DataFrame\n",
    "columns_with_string = all_tweets.applymap(lambda x: string_to_find in str(x)).any()\n",
    "\n",
    "# Get the column indices where the string is present\n",
    "indices_with_string = columns_with_string[columns_with_string].index\n",
    "\n",
    "# Display the column indices\n",
    "print(\"Column indices with the string:\", indices_with_string)\n",
    "\n",
    "#Show related column\n",
    "all_tweets[indices_with_string]\n",
    "\n",
    "#Drop the column\n",
    "all_tweets.drop(columns=indices_with_string, inplace=True)"
   ]
  },
  {
   "cell_type": "code",
   "execution_count": 7,
   "metadata": {},
   "outputs": [
    {
     "name": "stdout",
     "output_type": "stream",
     "text": [
      "Column indices with the string: Index(['Unnamed: 52'], dtype='object')\n"
     ]
    }
   ],
   "source": [
    "# Assuming survey_irony is your DataFrame\n",
    "string_to_find = 't even realize I was halfway through. very fun'\n",
    "\n",
    "# Check if the string is present in any cell of the DataFrame\n",
    "columns_with_string = all_tweets.applymap(lambda x: string_to_find in str(x)).any()\n",
    "\n",
    "# Get the column indices where the string is present\n",
    "indices_with_string = columns_with_string[columns_with_string].index\n",
    "\n",
    "# Display the column indices\n",
    "print(\"Column indices with the string:\", indices_with_string)\n",
    "\n",
    "#Show related column\n",
    "all_tweets[indices_with_string]\n",
    "\n",
    "#Drop the column\n",
    "all_tweets.drop(columns=indices_with_string, inplace=True)"
   ]
  },
  {
   "cell_type": "code",
   "execution_count": 8,
   "metadata": {},
   "outputs": [
    {
     "name": "stdout",
     "output_type": "stream",
     "text": [
      "(101, 8)\n"
     ]
    },
    {
     "data": {
      "text/html": [
       "<div>\n",
       "<style scoped>\n",
       "    .dataframe tbody tr th:only-of-type {\n",
       "        vertical-align: middle;\n",
       "    }\n",
       "\n",
       "    .dataframe tbody tr th {\n",
       "        vertical-align: top;\n",
       "    }\n",
       "\n",
       "    .dataframe thead th {\n",
       "        text-align: right;\n",
       "    }\n",
       "</style>\n",
       "<table border=\"1\" class=\"dataframe\">\n",
       "  <thead>\n",
       "    <tr style=\"text-align: right;\">\n",
       "      <th></th>\n",
       "      <th>text</th>\n",
       "      <th>irony number</th>\n",
       "      <th>not irony number</th>\n",
       "      <th>Erjon</th>\n",
       "      <th>Ecem</th>\n",
       "      <th>Cem</th>\n",
       "      <th>Akshay</th>\n",
       "      <th>Shinu</th>\n",
       "    </tr>\n",
       "  </thead>\n",
       "  <tbody>\n",
       "    <tr>\n",
       "      <th>0</th>\n",
       "      <td>@TLRailUK why don't the doors open at every st...</td>\n",
       "      <td>NaN</td>\n",
       "      <td>NaN</td>\n",
       "      <td>No, it is not ironic</td>\n",
       "      <td>No, it is not ironic</td>\n",
       "      <td>No, it is not ironic</td>\n",
       "      <td>No, it is not ironic</td>\n",
       "      <td>No, it is not ironic</td>\n",
       "    </tr>\n",
       "  </tbody>\n",
       "</table>\n",
       "</div>"
      ],
      "text/plain": [
       "                                                text irony number  \\\n",
       "0  @TLRailUK why don't the doors open at every st...          NaN   \n",
       "\n",
       "  not irony number                 Erjon                  Ecem  \\\n",
       "0              NaN  No, it is not ironic  No, it is not ironic   \n",
       "\n",
       "                    Cem                Akshay                 Shinu  \n",
       "0  No, it is not ironic  No, it is not ironic  No, it is not ironic  "
      ]
     },
     "execution_count": 8,
     "metadata": {},
     "output_type": "execute_result"
    }
   ],
   "source": [
    "# Creating a new DataFrame with the required columns\n",
    "new_columns = [\"text\", \"irony number\", \"not irony number\",\n",
    "               \"Erjon\", \"Ecem\", \"Cem\", \"Akshay\", \"Shinu\"]\n",
    "all_tweets_edited = pd.DataFrame(columns=new_columns)\n",
    "\n",
    "#Move intex to the text column\n",
    "all_tweets_edited.set_index(\"text\", inplace=True)\n",
    "\n",
    "#Copy the 1st row of the survey_irony to the new DataFrame's Erjon column\n",
    "all_tweets_edited[\"Erjon\"] = all_tweets.iloc[0, 1:]\n",
    "\n",
    "#Copy the 2nd row of the survey_irony to the new DataFrame's Ecem column\n",
    "all_tweets_edited[\"Ecem\"] = all_tweets.iloc[1, 1:]\n",
    "\n",
    "#Copy the 3rd row of the survey_irony to the new DataFrame's Cem column\n",
    "all_tweets_edited[\"Cem\"] = all_tweets.iloc[2, 1:]\n",
    "\n",
    "#Copy the 4th row of the survey_irony to the new DataFrame's Akshay column\n",
    "all_tweets_edited[\"Akshay\"] = all_tweets.iloc[3, 1:]\n",
    "\n",
    "#Copy the 5th row of the survey_irony to the new DataFrame's Shinu column\n",
    "all_tweets_edited[\"Shinu\"] = all_tweets.iloc[4, 1:]\n",
    "\n",
    "#Delete What is your name? row\n",
    "all_tweets_edited.drop(\"What is your name?\", inplace=True)\n",
    "\n",
    "all_tweets_edited = all_tweets_edited.reset_index()\n",
    "\n",
    "print(all_tweets_edited.shape)\n",
    "all_tweets_edited.head(1)"
   ]
  },
  {
   "cell_type": "code",
   "execution_count": 9,
   "metadata": {},
   "outputs": [
    {
     "name": "stdout",
     "output_type": "stream",
     "text": [
      "(101, 8)\n"
     ]
    },
    {
     "data": {
      "text/html": [
       "<div>\n",
       "<style scoped>\n",
       "    .dataframe tbody tr th:only-of-type {\n",
       "        vertical-align: middle;\n",
       "    }\n",
       "\n",
       "    .dataframe tbody tr th {\n",
       "        vertical-align: top;\n",
       "    }\n",
       "\n",
       "    .dataframe thead th {\n",
       "        text-align: right;\n",
       "    }\n",
       "</style>\n",
       "<table border=\"1\" class=\"dataframe\">\n",
       "  <thead>\n",
       "    <tr style=\"text-align: right;\">\n",
       "      <th></th>\n",
       "      <th>text</th>\n",
       "      <th>irony number</th>\n",
       "      <th>not irony number</th>\n",
       "      <th>Erjon</th>\n",
       "      <th>Ecem</th>\n",
       "      <th>Cem</th>\n",
       "      <th>Akshay</th>\n",
       "      <th>Shinu</th>\n",
       "    </tr>\n",
       "  </thead>\n",
       "  <tbody>\n",
       "    <tr>\n",
       "      <th>0</th>\n",
       "      <td>@TLRailUK why don't the doors open at every st...</td>\n",
       "      <td>NaN</td>\n",
       "      <td>NaN</td>\n",
       "      <td>No, it is not ironic</td>\n",
       "      <td>No, it is not ironic</td>\n",
       "      <td>No, it is not ironic</td>\n",
       "      <td>No, it is not ironic</td>\n",
       "      <td>No, it is not ironic</td>\n",
       "    </tr>\n",
       "  </tbody>\n",
       "</table>\n",
       "</div>"
      ],
      "text/plain": [
       "                                                text irony number  \\\n",
       "0  @TLRailUK why don't the doors open at every st...          NaN   \n",
       "\n",
       "  not irony number                 Erjon                  Ecem  \\\n",
       "0              NaN  No, it is not ironic  No, it is not ironic   \n",
       "\n",
       "                    Cem                Akshay                 Shinu  \n",
       "0  No, it is not ironic  No, it is not ironic  No, it is not ironic  "
      ]
     },
     "execution_count": 9,
     "metadata": {},
     "output_type": "execute_result"
    }
   ],
   "source": [
    "# Creating a new DataFrame with the required columns\n",
    "new_columns = [\"text\", \"irony number\", \"not irony number\",\n",
    "               \"Erjon\", \"Ecem\", \"Cem\", \"Akshay\", \"Shinu\"]\n",
    "all_tweets_edited = pd.DataFrame(columns=new_columns)\n",
    "\n",
    "#Move intex to the text column\n",
    "all_tweets_edited.set_index(\"text\", inplace=True)\n",
    "\n",
    "#Copy the 1st row of the survey_irony to the new DataFrame's Erjon column\n",
    "all_tweets_edited[\"Erjon\"] = all_tweets.iloc[0, 1:]\n",
    "\n",
    "#Copy the 2nd row of the survey_irony to the new DataFrame's Ecem column\n",
    "all_tweets_edited[\"Ecem\"] = all_tweets.iloc[1, 1:]\n",
    "\n",
    "#Copy the 3rd row of the survey_irony to the new DataFrame's Cem column\n",
    "all_tweets_edited[\"Cem\"] = all_tweets.iloc[2, 1:]\n",
    "\n",
    "#Copy the 4th row of the survey_irony to the new DataFrame's Akshay column\n",
    "all_tweets_edited[\"Akshay\"] = all_tweets.iloc[3, 1:]\n",
    "\n",
    "#Copy the 5th row of the survey_irony to the new DataFrame's Shinu column\n",
    "all_tweets_edited[\"Shinu\"] = all_tweets.iloc[4, 1:]\n",
    "\n",
    "#Delete What is your name? row\n",
    "all_tweets_edited.drop(\"What is your name?\", inplace=True)\n",
    "\n",
    "all_tweets_edited = all_tweets_edited.reset_index()\n",
    "\n",
    "print(all_tweets_edited.shape)\n",
    "all_tweets_edited.head(1)"
   ]
  },
  {
   "cell_type": "code",
   "execution_count": 10,
   "metadata": {},
   "outputs": [],
   "source": [
    "#Create a copy of the DataFrame named survey_edited\n",
    "survey_edited = all_tweets_edited.copy()"
   ]
  },
  {
   "cell_type": "code",
   "execution_count": 11,
   "metadata": {},
   "outputs": [
    {
     "data": {
      "text/html": [
       "<div>\n",
       "<style scoped>\n",
       "    .dataframe tbody tr th:only-of-type {\n",
       "        vertical-align: middle;\n",
       "    }\n",
       "\n",
       "    .dataframe tbody tr th {\n",
       "        vertical-align: top;\n",
       "    }\n",
       "\n",
       "    .dataframe thead th {\n",
       "        text-align: right;\n",
       "    }\n",
       "</style>\n",
       "<table border=\"1\" class=\"dataframe\">\n",
       "  <thead>\n",
       "    <tr style=\"text-align: right;\">\n",
       "      <th></th>\n",
       "      <th>text</th>\n",
       "      <th>irony number</th>\n",
       "      <th>not irony number</th>\n",
       "      <th>Erjon</th>\n",
       "      <th>Ecem</th>\n",
       "      <th>Cem</th>\n",
       "      <th>Akshay</th>\n",
       "      <th>Shinu</th>\n",
       "      <th>pattern</th>\n",
       "    </tr>\n",
       "  </thead>\n",
       "  <tbody>\n",
       "    <tr>\n",
       "      <th>0</th>\n",
       "      <td>@TLRailUK why don't the doors open at every st...</td>\n",
       "      <td>0</td>\n",
       "      <td>5</td>\n",
       "      <td>No, it is not ironic</td>\n",
       "      <td>No, it is not ironic</td>\n",
       "      <td>No, it is not ironic</td>\n",
       "      <td>No, it is not ironic</td>\n",
       "      <td>No, it is not ironic</td>\n",
       "      <td>05</td>\n",
       "    </tr>\n",
       "  </tbody>\n",
       "</table>\n",
       "</div>"
      ],
      "text/plain": [
       "                                                text  irony number  \\\n",
       "0  @TLRailUK why don't the doors open at every st...             0   \n",
       "\n",
       "   not irony number                 Erjon                  Ecem  \\\n",
       "0                 5  No, it is not ironic  No, it is not ironic   \n",
       "\n",
       "                    Cem                Akshay                 Shinu pattern  \n",
       "0  No, it is not ironic  No, it is not ironic  No, it is not ironic      05  "
      ]
     },
     "execution_count": 11,
     "metadata": {},
     "output_type": "execute_result"
    }
   ],
   "source": [
    "survey_edited['not irony number'] = survey_edited.apply(lambda row: row.str.count('No, it is not ironic').sum(), axis=1)\n",
    "survey_edited['irony number'] = survey_edited.apply(lambda row: row.str.count('Yes, it is ironic').sum(), axis=1)\n",
    "\n",
    "survey_edited['irony number'] = survey_edited['irony number'].astype(str).str[:-2].astype(int)\n",
    "survey_edited['not irony number'] = survey_edited['not irony number'].astype(str).str[:-2].astype(int)\n",
    "\n",
    "#Create a pattern column that combines numbers in the irony and not irony columns\n",
    "survey_edited['pattern'] = survey_edited['irony number'].astype(str) + survey_edited['not irony number'].astype(str)\n",
    "\n",
    "# Display the modified DataFrame\n",
    "survey_edited.head(1)"
   ]
  },
  {
   "cell_type": "code",
   "execution_count": 12,
   "metadata": {},
   "outputs": [
    {
     "data": {
      "text/plain": [
       "05    78\n",
       "14    10\n",
       "50     6\n",
       "41     5\n",
       "32     2\n",
       "Name: pattern, dtype: int64"
      ]
     },
     "execution_count": 12,
     "metadata": {},
     "output_type": "execute_result"
    }
   ],
   "source": [
    "survey_edited['pattern'].value_counts()"
   ]
  },
  {
   "cell_type": "code",
   "execution_count": 13,
   "metadata": {},
   "outputs": [
    {
     "data": {
      "text/html": [
       "<div>\n",
       "<style scoped>\n",
       "    .dataframe tbody tr th:only-of-type {\n",
       "        vertical-align: middle;\n",
       "    }\n",
       "\n",
       "    .dataframe tbody tr th {\n",
       "        vertical-align: top;\n",
       "    }\n",
       "\n",
       "    .dataframe thead th {\n",
       "        text-align: right;\n",
       "    }\n",
       "</style>\n",
       "<table border=\"1\" class=\"dataframe\">\n",
       "  <thead>\n",
       "    <tr style=\"text-align: right;\">\n",
       "      <th></th>\n",
       "      <th>text</th>\n",
       "      <th>irony number</th>\n",
       "      <th>not irony number</th>\n",
       "      <th>Erjon</th>\n",
       "      <th>Ecem</th>\n",
       "      <th>Cem</th>\n",
       "      <th>Akshay</th>\n",
       "      <th>Shinu</th>\n",
       "    </tr>\n",
       "  </thead>\n",
       "  <tbody>\n",
       "    <tr>\n",
       "      <th>0</th>\n",
       "      <td>@TLRailUK why don't the doors open at every st...</td>\n",
       "      <td>NaN</td>\n",
       "      <td>NaN</td>\n",
       "      <td>No, it is not ironic</td>\n",
       "      <td>No, it is not ironic</td>\n",
       "      <td>No, it is not ironic</td>\n",
       "      <td>No, it is not ironic</td>\n",
       "      <td>No, it is not ironic</td>\n",
       "    </tr>\n",
       "  </tbody>\n",
       "</table>\n",
       "</div>"
      ],
      "text/plain": [
       "                                                text irony number  \\\n",
       "0  @TLRailUK why don't the doors open at every st...          NaN   \n",
       "\n",
       "  not irony number                 Erjon                  Ecem  \\\n",
       "0              NaN  No, it is not ironic  No, it is not ironic   \n",
       "\n",
       "                    Cem                Akshay                 Shinu  \n",
       "0  No, it is not ironic  No, it is not ironic  No, it is not ironic  "
      ]
     },
     "execution_count": 13,
     "metadata": {},
     "output_type": "execute_result"
    }
   ],
   "source": [
    "all_tweets_edited.head(1)"
   ]
  },
  {
   "cell_type": "code",
   "execution_count": 14,
   "metadata": {},
   "outputs": [
    {
     "data": {
      "image/png": "[encoded data removed]",
      "text/plain": [
       "<Figure size 640x480 with 1 Axes>"
      ]
     },
     "metadata": {},
     "output_type": "display_data"
    }
   ],
   "source": [
    "# Reorder the index of the value counts based on your desired sequence\n",
    "desired_sequence = ['05', '50', '14', '41', '32']\n",
    "survey_edited_ordered = survey_edited.set_index('pattern').loc[desired_sequence].reset_index()\n",
    "\n",
    "# Create a bar chart showing the distribution of the pattern column\n",
    "ordered_value_counts = survey_edited_ordered['pattern'].value_counts()\n",
    "ordered_value_counts = ordered_value_counts.reindex(desired_sequence)  # Reorder the index\n",
    "ordered_value_counts.plot(kind='bar')\n",
    "\n",
    "# Add quantities on top of each bar\n",
    "for index, value in enumerate(ordered_value_counts):\n",
    "    plt.text(index, value, str(value))\n",
    "\n",
    "# Add title and axis names\n",
    "plt.title('Pattern Distribution')\n",
    "plt.ylabel('Count')\n",
    "plt.xlabel('Pattern')\n",
    "plt.show()"
   ]
  },
  {
   "cell_type": "code",
   "execution_count": 15,
   "metadata": {},
   "outputs": [
    {
     "name": "stdout",
     "output_type": "stream",
     "text": [
      "The number of tweets in which we all agree is an irony:  6\n",
      "The number of tweets in which we all agree is not an irony:  78\n",
      "The number of tweets in which it's 4 votes for an irony:  5\n",
      "The number of tweets in which it's 4 votes for not an irony:  10\n",
      "The number of tweets where there is no agreement:  2\n",
      "Also the number of tweets where there is no agreement:  0\n"
     ]
    }
   ],
   "source": [
    "# Print the pattern distribution\n",
    "print('The number of tweets in which we all agree is an irony: ', survey_edited['pattern'].value_counts().get('50', 0))\n",
    "print('The number of tweets in which we all agree is not an irony: ', survey_edited['pattern'].value_counts().get('05', 0))\n",
    "print('The number of tweets in which it\\'s 4 votes for an irony: ', survey_edited['pattern'].value_counts().get('41', 0))\n",
    "print('The number of tweets in which it\\'s 4 votes for not an irony: ', survey_edited['pattern'].value_counts().get('14', 0))\n",
    "print(\"The number of tweets where there is no agreement: \", survey_edited['pattern'].value_counts().get('32', 0))\n",
    "print(\"Also the number of tweets where there is no agreement: \", survey_edited['pattern'].value_counts().get('23', 0))"
   ]
  },
  {
   "cell_type": "code",
   "execution_count": 16,
   "metadata": {},
   "outputs": [
    {
     "data": {
      "text/html": [
       "<div>\n",
       "<style scoped>\n",
       "    .dataframe tbody tr th:only-of-type {\n",
       "        vertical-align: middle;\n",
       "    }\n",
       "\n",
       "    .dataframe tbody tr th {\n",
       "        vertical-align: top;\n",
       "    }\n",
       "\n",
       "    .dataframe thead th {\n",
       "        text-align: right;\n",
       "    }\n",
       "</style>\n",
       "<table border=\"1\" class=\"dataframe\">\n",
       "  <thead>\n",
       "    <tr style=\"text-align: right;\">\n",
       "      <th></th>\n",
       "      <th>text</th>\n",
       "      <th>irony number</th>\n",
       "      <th>not irony number</th>\n",
       "      <th>Erjon</th>\n",
       "      <th>Ecem</th>\n",
       "      <th>Cem</th>\n",
       "      <th>Akshay</th>\n",
       "      <th>Shinu</th>\n",
       "      <th>pattern</th>\n",
       "      <th>irony_by_survey</th>\n",
       "    </tr>\n",
       "  </thead>\n",
       "  <tbody>\n",
       "    <tr>\n",
       "      <th>0</th>\n",
       "      <td>@TLRailUK why don't the doors open at every st...</td>\n",
       "      <td>0</td>\n",
       "      <td>5</td>\n",
       "      <td>No, it is not ironic</td>\n",
       "      <td>No, it is not ironic</td>\n",
       "      <td>No, it is not ironic</td>\n",
       "      <td>No, it is not ironic</td>\n",
       "      <td>No, it is not ironic</td>\n",
       "      <td>05</td>\n",
       "      <td>False</td>\n",
       "    </tr>\n",
       "  </tbody>\n",
       "</table>\n",
       "</div>"
      ],
      "text/plain": [
       "                                                text  irony number  \\\n",
       "0  @TLRailUK why don't the doors open at every st...             0   \n",
       "\n",
       "   not irony number                 Erjon                  Ecem  \\\n",
       "0                 5  No, it is not ironic  No, it is not ironic   \n",
       "\n",
       "                    Cem                Akshay                 Shinu pattern  \\\n",
       "0  No, it is not ironic  No, it is not ironic  No, it is not ironic      05   \n",
       "\n",
       "   irony_by_survey  \n",
       "0            False  "
      ]
     },
     "execution_count": 16,
     "metadata": {},
     "output_type": "execute_result"
    }
   ],
   "source": [
    "#Create a column with the name of irony_by_survey that contains True False column where pattern is 50, 41, 14, 05 is True and 23, 32 is False\n",
    "survey_edited['irony_by_survey'] = survey_edited['pattern'].isin(['50', '41'])\n",
    "survey_edited.head(1)"
   ]
  },
  {
   "cell_type": "code",
   "execution_count": 17,
   "metadata": {},
   "outputs": [
    {
     "name": "stdout",
     "output_type": "stream",
     "text": [
      "Number of total tweets after filtering out the rows that contain 'update' in the text column of modelling dataset:  94\n"
     ]
    }
   ],
   "source": [
    "# filter out the rows that contain \"update\" in the text column of all_tweets_edited\n",
    "all_tweets_edited = all_tweets_edited[~all_tweets_edited['text'].str.contains(\"update\")]\n",
    "number_total_tweets = len(all_tweets_edited)\n",
    "\n",
    "#Printing tweet length after filtering out the rows that contain \"update\" in the text column\n",
    "print(\"Number of total tweets after filtering out the rows that contain 'update' in the text column of modelling dataset: \", number_total_tweets)"
   ]
  },
  {
   "cell_type": "code",
   "execution_count": 18,
   "metadata": {},
   "outputs": [
    {
     "name": "stdout",
     "output_type": "stream",
     "text": [
      "Number of total tweets after filtering out the rows that contain 'update' in the text column of survey dataset:  94\n"
     ]
    }
   ],
   "source": [
    "# filter out the rows that contain \"update\" in the text column of survey_edited\n",
    "survey_edited = survey_edited[~survey_edited['text'].str.contains(\"update\")]\n",
    "number_total_tweets = len(survey_edited)\n",
    "\n",
    "#Printing tweet length after filtering out the rows that contain \"update\" in the text column\n",
    "print(\"Number of total tweets after filtering out the rows that contain 'update' in the text column of survey dataset: \", number_total_tweets)"
   ]
  },
  {
   "cell_type": "code",
   "execution_count": 19,
   "metadata": {},
   "outputs": [
    {
     "name": "stdout",
     "output_type": "stream",
     "text": [
      "Number of total tweets after filtering out the duplicated rows of modelling dataset:  94\n",
      "Number of total tweets after filtering out the duplicated rows of survey dataset:  94\n"
     ]
    }
   ],
   "source": [
    "# filter duplicated rows of all_tweets_edited\n",
    "all_tweets_edited = all_tweets_edited.drop_duplicates(subset=['text'])\n",
    "number_total_tweets = len(all_tweets_edited)\n",
    "\n",
    "#Printing tweet length after filtering out the duplicated rows\n",
    "print(\"Number of total tweets after filtering out the duplicated rows of modelling dataset: \", number_total_tweets)\n",
    "\n",
    "# filter duplicated rows of survey_edited\n",
    "survey_edited = survey_edited.drop_duplicates(subset=['text'])\n",
    "number_total_tweets = len(survey_edited)\n",
    "\n",
    "#Printing tweet length after filtering out the duplicated rows\n",
    "print(\"Number of total tweets after filtering out the duplicated rows of survey dataset: \", number_total_tweets)"
   ]
  },
  {
   "cell_type": "code",
   "execution_count": 20,
   "metadata": {},
   "outputs": [
    {
     "name": "stdout",
     "output_type": "stream",
     "text": [
      "Number of total tweets after filtering out the rows that contain 'delay' in the text column of modelling dataset:  55\n",
      "Number of total tweets after filtering out the rows that contain 'delay' in the text column of survey dataset:  55\n"
     ]
    }
   ],
   "source": [
    "# filter out the rows that contain \"delay\" in the text column of all_tweets_edited\n",
    "all_tweets_edited = all_tweets_edited[~all_tweets_edited['text'].str.contains(\"delay\")]\n",
    "number_total_tweets = len(all_tweets_edited)\n",
    "\n",
    "#Printing tweet length after filtering out the rows that contain \"delay\" in the text column\n",
    "print(\"Number of total tweets after filtering out the rows that contain 'delay' in the text column of modelling dataset: \", number_total_tweets)\n",
    "\n",
    "# filter out the rows that contain \"delay\" in the text column of survey_edited\n",
    "survey_edited = survey_edited[~survey_edited['text'].str.contains(\"delay\")]\n",
    "number_total_tweets = len(survey_edited)\n",
    "\n",
    "#Printing tweet length after filtering out the rows that contain \"delay\" in the text column\n",
    "print(\"Number of total tweets after filtering out the rows that contain 'delay' in the text column of survey dataset: \", number_total_tweets)"
   ]
  },
  {
   "cell_type": "code",
   "execution_count": 21,
   "metadata": {},
   "outputs": [
    {
     "name": "stdout",
     "output_type": "stream",
     "text": [
      "Number of ironic tweets depending on the model: 10\n"
     ]
    }
   ],
   "source": [
    "#Check for irony in the all_tweets_edited dataset using the tweetnlp library and save the results in a new column called irony\n",
    "model_irony = tweetnlp.load_model('irony')\n",
    "#Create a new dataframe called transformed_tweets_irony as a copy of all_tweets_edited\n",
    "transformed_tweets_irony = survey_edited.copy()\n",
    "\n",
    "transformed_tweets_irony['irony'] = transformed_tweets_irony['text'].apply(lambda x: model_irony.predict(x)['label'])\n",
    "\n",
    "irony_counts = transformed_tweets_irony['irony'].value_counts()\n",
    "number_irony_tweets = irony_counts.loc['irony'] if 'irony' in irony_counts else 0\n",
    "\n",
    "print(f'Number of ironic tweets depending on the model: {number_irony_tweets}')"
   ]
  },
  {
   "cell_type": "code",
   "execution_count": 22,
   "metadata": {},
   "outputs": [
    {
     "data": {
      "text/plain": [
       "22     @TLRailUK 0930 at ECR (on late 0807 BTN to LBG...\n",
       "33     @TLRailUK it seems remarkable that the train i...\n",
       "45     for nothing! @TLRailUK No paper in the toilet ...\n",
       "52     Delightful @TLRailUK train this morning - fill...\n",
       "53     Oh great, looks like @TLRailUK on-train WiFi d...\n",
       "68     Govia Thameslink fined Â£1m over Gatwick Expre...\n",
       "80     The seats on @TLRailUK are made to give you ba...\n",
       "83     Commuting public: \"hurrah, the school holidays...\n",
       "88     Taking the Biscuit?! Sweet treat apology from ...\n",
       "100    @TLRailUK You opened the doors 20 seconds afte...\n",
       "Name: text, dtype: object"
      ]
     },
     "execution_count": 22,
     "metadata": {},
     "output_type": "execute_result"
    }
   ],
   "source": [
    "#Print text column of transformed_tweets_irony dataframe where irony is ironic\n",
    "transformed_tweets_irony[transformed_tweets_irony['irony'] == 'irony']['text']"
   ]
  },
  {
   "cell_type": "code",
   "execution_count": 23,
   "metadata": {},
   "outputs": [
    {
     "data": {
      "text/html": [
       "<div>\n",
       "<style scoped>\n",
       "    .dataframe tbody tr th:only-of-type {\n",
       "        vertical-align: middle;\n",
       "    }\n",
       "\n",
       "    .dataframe tbody tr th {\n",
       "        vertical-align: top;\n",
       "    }\n",
       "\n",
       "    .dataframe thead th {\n",
       "        text-align: right;\n",
       "    }\n",
       "</style>\n",
       "<table border=\"1\" class=\"dataframe\">\n",
       "  <thead>\n",
       "    <tr style=\"text-align: right;\">\n",
       "      <th></th>\n",
       "      <th>text</th>\n",
       "      <th>irony number</th>\n",
       "      <th>not irony number</th>\n",
       "      <th>Erjon</th>\n",
       "      <th>Ecem</th>\n",
       "      <th>Cem</th>\n",
       "      <th>Akshay</th>\n",
       "      <th>Shinu</th>\n",
       "      <th>pattern</th>\n",
       "      <th>irony_by_survey</th>\n",
       "      <th>irony_by_model</th>\n",
       "    </tr>\n",
       "  </thead>\n",
       "  <tbody>\n",
       "    <tr>\n",
       "      <th>0</th>\n",
       "      <td>@TLRailUK why don't the doors open at every st...</td>\n",
       "      <td>0</td>\n",
       "      <td>5</td>\n",
       "      <td>No, it is not ironic</td>\n",
       "      <td>No, it is not ironic</td>\n",
       "      <td>No, it is not ironic</td>\n",
       "      <td>No, it is not ironic</td>\n",
       "      <td>No, it is not ironic</td>\n",
       "      <td>05</td>\n",
       "      <td>False</td>\n",
       "      <td>False</td>\n",
       "    </tr>\n",
       "  </tbody>\n",
       "</table>\n",
       "</div>"
      ],
      "text/plain": [
       "                                                text  irony number  \\\n",
       "0  @TLRailUK why don't the doors open at every st...             0   \n",
       "\n",
       "   not irony number                 Erjon                  Ecem  \\\n",
       "0                 5  No, it is not ironic  No, it is not ironic   \n",
       "\n",
       "                    Cem                Akshay                 Shinu pattern  \\\n",
       "0  No, it is not ironic  No, it is not ironic  No, it is not ironic      05   \n",
       "\n",
       "   irony_by_survey  irony_by_model  \n",
       "0            False           False  "
      ]
     },
     "execution_count": 23,
     "metadata": {},
     "output_type": "execute_result"
    }
   ],
   "source": [
    "#Add a column to survey_edited dataframe called irony_by_model that writes True if the tweet is ironic regarding the model and False if it is not\n",
    "survey_edited['irony_by_model'] = transformed_tweets_irony['irony'] == 'irony'\n",
    "\n",
    "#Print the survey_edited dataframe\n",
    "survey_edited.head(1)"
   ]
  },
  {
   "cell_type": "code",
   "execution_count": 24,
   "metadata": {},
   "outputs": [
    {
     "name": "stdout",
     "output_type": "stream",
     "text": [
      "TP: 6\n",
      "FP: 4\n",
      "TN: 44\n",
      "FN: 1\n"
     ]
    }
   ],
   "source": [
    "# Print TP, FP, TN, FN values\n",
    "TP = ((survey_edited['irony_by_survey'] == True) & (survey_edited['irony_by_model'] == True)).sum()\n",
    "FP = ((survey_edited['irony_by_survey'] == False) & (survey_edited['irony_by_model'] == True)).sum()\n",
    "TN = ((survey_edited['irony_by_survey'] == False) & (survey_edited['irony_by_model'] == False)).sum()\n",
    "FN = ((survey_edited['irony_by_survey'] == True) & (survey_edited['irony_by_model'] == False)).sum()\n",
    "\n",
    "print(f'TP: {TP}')\n",
    "print(f'FP: {FP}')\n",
    "print(f'TN: {TN}')\n",
    "print(f'FN: {FN}')\n"
   ]
  },
  {
   "cell_type": "code",
   "execution_count": 25,
   "metadata": {},
   "outputs": [
    {
     "name": "stdout",
     "output_type": "stream",
     "text": [
      "Precision: 0.6\n",
      "Recall: 0.8571428571428571\n",
      "Specificity: 0.9166666666666666\n",
      "Accuracy: 0.9090909090909091\n",
      "F1 score: 0.7058823529411764\n"
     ]
    }
   ],
   "source": [
    "#Calculate precision, recall, specificity, accuracy and F1 score\n",
    "precision = TP / (TP + FP)\n",
    "recall = TP / (TP + FN)\n",
    "specificity = TN / (TN + FP)\n",
    "accuracy = (TP + TN) / (TP + FP + TN + FN)\n",
    "f1_score = 2 * precision * recall / (precision + recall)\n",
    "\n",
    "print(f'Precision: {precision}')\n",
    "print(f'Recall: {recall}')\n",
    "print(f'Specificity: {specificity}')\n",
    "print(f'Accuracy: {accuracy}')\n",
    "print(f'F1 score: {f1_score}')"
   ]
  },
  {
   "cell_type": "markdown",
   "metadata": {},
   "source": [
    "Precision: When the model predicts a positive instance, it is correct 60% of the time.\n",
    "\n",
    "Recall: is approximately 0.857. This indicates that the model captures about 85.7% of all actual positive instances.\n",
    "\n",
    "Specificity: Means that the model is accurate in predicting negative instances around 91.7% of the time.\n",
    "\n",
    "Accuracy: indicates that the model is correct in its predictions about 90.9% of the time.\n",
    "\n",
    "F1 score: provides a balanced measure of both precision and recall, giving an overall indication of the model's performance."
   ]
  },
  {
   "cell_type": "markdown",
   "metadata": {},
   "source": [
    "Most important aspect is True Positives (TP) and the most costly one is False Negatives (FN)"
   ]
  },
  {
   "cell_type": "code",
   "execution_count": 26,
   "metadata": {},
   "outputs": [
    {
     "name": "stdout",
     "output_type": "stream",
     "text": [
      "Prevellence: 0.12727272727272726\n"
     ]
    }
   ],
   "source": [
    "#Calculate Prevellence\n",
    "prevellence = (TP + FN) / (TP + FP + TN + FN)\n",
    "print(f'Prevellence: {prevellence}')"
   ]
  },
  {
   "cell_type": "markdown",
   "metadata": {},
   "source": [
    "Low Prevalence:\n",
    "\n",
    "Conversely, a lower prevalence means that the positive instances are less common in the dataset.\n",
    "Low prevalence might be suitable if you are dealing with a rare event, and the focus is on correctly identifying and handling the rare positive instances."
   ]
  },
  {
   "cell_type": "code",
   "execution_count": 27,
   "metadata": {},
   "outputs": [
    {
     "data": {
      "image/png": "[encoded data removed]",
      "text/plain": [
       "<Figure size 640x480 with 2 Axes>"
      ]
     },
     "metadata": {},
     "output_type": "display_data"
    }
   ],
   "source": [
    "#Plot confusion matrix\n",
    "import seaborn as sns\n",
    "import matplotlib.pyplot as plt\n",
    "from sklearn.metrics import confusion_matrix\n",
    "\n",
    "cm = confusion_matrix(survey_edited['irony_by_survey'], survey_edited['irony_by_model'])\n",
    "sns.heatmap(cm, annot=True, fmt='d')\n",
    "plt.xlabel('Predicted')\n",
    "plt.ylabel('Actual')\n",
    "plt.show()\n"
   ]
  },
  {
   "cell_type": "code",
   "execution_count": 29,
   "metadata": {},
   "outputs": [
    {
     "data": {
      "image/png": "[encoded data removed]",
      "text/plain": [
       "<Figure size 640x480 with 1 Axes>"
      ]
     },
     "metadata": {},
     "output_type": "display_data"
    }
   ],
   "source": [
    "#Draw Precision-Recall Curve\n",
    "from sklearn.metrics import precision_recall_curve\n",
    "\n",
    "precision, recall, thresholds = precision_recall_curve(survey_edited['irony_by_survey'], survey_edited['irony_by_model'])\n",
    "plt.plot(recall, precision)\n",
    "plt.xlabel('Recall')\n",
    "plt.ylabel('Precision')\n",
    "plt.show()"
   ]
  },
  {
   "cell_type": "code",
   "execution_count": 30,
   "metadata": {},
   "outputs": [
    {
     "data": {
      "image/png": "[encoded data removed]",
      "text/plain": [
       "<Figure size 640x480 with 1 Axes>"
      ]
     },
     "metadata": {},
     "output_type": "display_data"
    }
   ],
   "source": [
    "#Plot Receiver Operating Characteristic (ROC) Curve\n",
    "from sklearn.metrics import roc_curve\n",
    "\n",
    "fpr, tpr, thresholds = roc_curve(survey_edited['irony_by_survey'], survey_edited['irony_by_model'])\n",
    "plt.plot(fpr, tpr)\n",
    "plt.xlabel('False Positive Rate')\n",
    "plt.ylabel('True Positive Rate')\n",
    "plt.show()"
   ]
  },
  {
   "cell_type": "code",
   "execution_count": 33,
   "metadata": {},
   "outputs": [
    {
     "data": {
      "image/png": "[encoded data removed]",
      "text/plain": [
       "<Figure size 640x480 with 1 Axes>"
      ]
     },
     "metadata": {},
     "output_type": "display_data"
    }
   ],
   "source": [
    "#Plot Distribution of Irony\n",
    "survey_edited['irony_by_survey'].value_counts().plot(kind='bar')\n",
    "plt.title('Irony Distribution')\n",
    "plt.xlabel('Irony')\n",
    "plt.ylabel('Count')\n",
    "plt.show()"
   ]
  },
  {
   "cell_type": "code",
   "execution_count": 39,
   "metadata": {},
   "outputs": [
    {
     "data": {
      "image/png": "[encoded data removed]",
      "text/plain": [
       "<Figure size 1200x500 with 4 Axes>"
      ]
     },
     "metadata": {},
     "output_type": "display_data"
    }
   ],
   "source": [
    "import seaborn as sns\n",
    "import matplotlib.pyplot as plt\n",
    "\n",
    "# Assuming survey_edited has 'irony_by_survey' and 'irony_by_model' columns\n",
    "\n",
    "# Set up the figure with a 1-row, 2-column grid\n",
    "fig, axes = plt.subplots(1, 2, figsize=(12, 5))\n",
    "\n",
    "# Plot heatmap of 'irony_by_survey' column\n",
    "sns.heatmap(survey_edited[['irony_by_survey']].astype(int), ax=axes[0], cmap=\"Blues\", annot=True, fmt=\"d\")\n",
    "axes[0].set_title('Irony Distribution (Survey)')\n",
    "axes[0].set_xlabel('Irony')\n",
    "axes[0].set_ylabel('Count')\n",
    "\n",
    "# Plot heatmap of 'irony_by_model' column\n",
    "sns.heatmap(survey_edited[['irony_by_model']].astype(int), ax=axes[1], cmap=\"Blues\", annot=True, fmt=\"d\")\n",
    "axes[1].set_title('Irony Distribution (Model)')\n",
    "axes[1].set_xlabel('Irony')\n",
    "axes[1].set_ylabel('Count')\n",
    "\n",
    "# Adjust layout\n",
    "plt.tight_layout()\n",
    "plt.show()\n"
   ]
  },
  {
   "cell_type": "code",
   "execution_count": null,
   "metadata": {},
   "outputs": [],
   "source": []
  }
 ],
 "metadata": {
  "kernelspec": {
   "display_name": "base",
   "language": "python",
   "name": "python3"
  },
  "language_info": {
   "codemirror_mode": {
    "name": "ipython",
    "version": 3
   },
   "file_extension": ".py",
   "mimetype": "text/x-python",
   "name": "python",
   "nbconvert_exporter": "python",
   "pygments_lexer": "ipython3",
   "version": "3.10.9"
  }
 },
 "nbformat": 4,
 "nbformat_minor": 2
}
